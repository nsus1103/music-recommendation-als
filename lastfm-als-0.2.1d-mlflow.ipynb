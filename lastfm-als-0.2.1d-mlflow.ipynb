{
 "cells": [
  {
   "cell_type": "code",
   "execution_count": 0,
   "metadata": {
    "application/vnd.databricks.v1+cell": {
     "inputWidgets": {},
     "nuid": "e6fb5b40-7e04-4ed3-b4ba-65e0eeb91afe",
     "showTitle": false,
     "title": ""
    }
   },
   "outputs": [
    {
     "data": {
      "text/html": [
       "<style scoped>\n",
       "  .ansiout {\n",
       "    display: block;\n",
       "    unicode-bidi: embed;\n",
       "    white-space: pre-wrap;\n",
       "    word-wrap: break-word;\n",
       "    word-break: break-all;\n",
       "    font-family: \"Source Code Pro\", \"Menlo\", monospace;;\n",
       "    font-size: 13px;\n",
       "    color: #555;\n",
       "    margin-left: 4px;\n",
       "    line-height: 19px;\n",
       "  }\n",
       "</style>\n",
       "<div class=\"ansiout\">Requirement already satisfied: mlflow in /databricks/python3/lib/python3.8/site-packages (1.19.0)\r\n",
       "Requirement already satisfied: Flask in /databricks/python3/lib/python3.8/site-packages (from mlflow) (2.0.1)\r\n",
       "Requirement already satisfied: gunicorn; platform_system != &#34;Windows&#34; in /databricks/python3/lib/python3.8/site-packages (from mlflow) (20.1.0)\r\n",
       "Requirement already satisfied: sqlparse&gt;=0.3.1 in /databricks/python3/lib/python3.8/site-packages (from mlflow) (0.4.1)\r\n",
       "Requirement already satisfied: packaging in /databricks/python3/lib/python3.8/site-packages (from mlflow) (21.0)\r\n",
       "Requirement already satisfied: databricks-cli&gt;=0.8.7 in /databricks/python3/lib/python3.8/site-packages (from mlflow) (0.14.3)\r\n",
       "Requirement already satisfied: requests&gt;=2.17.3 in /databricks/python3/lib/python3.8/site-packages (from mlflow) (2.24.0)\r\n",
       "Requirement already satisfied: sqlalchemy in /databricks/python3/lib/python3.8/site-packages (from mlflow) (1.4.21)\r\n",
       "Requirement already satisfied: pytz in /databricks/python3/lib/python3.8/site-packages (from mlflow) (2020.5)\r\n",
       "Requirement already satisfied: protobuf&gt;=3.7.0 in /databricks/python3/lib/python3.8/site-packages (from mlflow) (3.17.0)\r\n",
       "Requirement already satisfied: docker&gt;=4.0.0 in /databricks/python3/lib/python3.8/site-packages (from mlflow) (5.0.0)\r\n",
       "Requirement already satisfied: cloudpickle in /databricks/python3/lib/python3.8/site-packages (from mlflow) (1.6.0)\r\n",
       "Requirement already satisfied: numpy in /databricks/python3/lib/python3.8/site-packages (from mlflow) (1.19.2)\r\n",
       "Requirement already satisfied: pyyaml&gt;=5.1 in /databricks/python3/lib/python3.8/site-packages (from mlflow) (5.4.1)\r\n",
       "Requirement already satisfied: alembic&lt;=1.4.1 in /databricks/python3/lib/python3.8/site-packages (from mlflow) (1.4.1)\r\n",
       "Requirement already satisfied: pandas in /databricks/python3/lib/python3.8/site-packages (from mlflow) (1.1.5)\r\n",
       "Requirement already satisfied: entrypoints in /databricks/python3/lib/python3.8/site-packages (from mlflow) (0.3)\r\n",
       "Requirement already satisfied: gitpython&gt;=2.1.0 in /databricks/python3/lib/python3.8/site-packages (from mlflow) (3.1.18)\r\n",
       "Requirement already satisfied: querystring-parser in /databricks/python3/lib/python3.8/site-packages (from mlflow) (1.2.4)\r\n",
       "Requirement already satisfied: prometheus-flask-exporter in /databricks/python3/lib/python3.8/site-packages (from mlflow) (0.18.2)\r\n",
       "Requirement already satisfied: click&gt;=7.0 in /databricks/python3/lib/python3.8/site-packages (from mlflow) (8.0.1)\r\n",
       "Requirement already satisfied: itsdangerous&gt;=2.0 in /databricks/python3/lib/python3.8/site-packages (from Flask-&gt;mlflow) (2.0.1)\r\n",
       "Requirement already satisfied: Werkzeug&gt;=2.0 in /databricks/python3/lib/python3.8/site-packages (from Flask-&gt;mlflow) (2.0.1)\r\n",
       "Requirement already satisfied: Jinja2&gt;=3.0 in /databricks/python3/lib/python3.8/site-packages (from Flask-&gt;mlflow) (3.0.1)\r\n",
       "Requirement already satisfied: setuptools&gt;=3.0 in /databricks/python3/lib/python3.8/site-packages (from gunicorn; platform_system != &#34;Windows&#34;-&gt;mlflow) (50.3.1)\r\n",
       "Requirement already satisfied: pyparsing&gt;=2.0.2 in /databricks/python3/lib/python3.8/site-packages (from packaging-&gt;mlflow) (2.4.7)\r\n",
       "Requirement already satisfied: six&gt;=1.10.0 in /databricks/python3/lib/python3.8/site-packages (from databricks-cli&gt;=0.8.7-&gt;mlflow) (1.15.0)\r\n",
       "Requirement already satisfied: tabulate&gt;=0.7.7 in /databricks/python3/lib/python3.8/site-packages (from databricks-cli&gt;=0.8.7-&gt;mlflow) (0.8.9)\r\n",
       "Requirement already satisfied: certifi&gt;=2017.4.17 in /databricks/python3/lib/python3.8/site-packages (from requests&gt;=2.17.3-&gt;mlflow) (2020.12.5)\r\n",
       "Requirement already satisfied: chardet&lt;4,&gt;=3.0.2 in /databricks/python3/lib/python3.8/site-packages (from requests&gt;=2.17.3-&gt;mlflow) (3.0.4)\r\n",
       "Requirement already satisfied: idna&lt;3,&gt;=2.5 in /databricks/python3/lib/python3.8/site-packages (from requests&gt;=2.17.3-&gt;mlflow) (2.10)\r\n",
       "Requirement already satisfied: urllib3!=1.25.0,!=1.25.1,&lt;1.26,&gt;=1.21.1 in /databricks/python3/lib/python3.8/site-packages (from requests&gt;=2.17.3-&gt;mlflow) (1.25.11)\r\n",
       "Requirement already satisfied: greenlet!=0.4.17; python_version &gt;= &#34;3&#34; in /databricks/python3/lib/python3.8/site-packages (from sqlalchemy-&gt;mlflow) (1.1.0)\r\n",
       "Requirement already satisfied: websocket-client&gt;=0.32.0 in /databricks/python3/lib/python3.8/site-packages (from docker&gt;=4.0.0-&gt;mlflow) (1.1.0)\r\n",
       "Requirement already satisfied: Mako in /databricks/python3/lib/python3.8/site-packages (from alembic&lt;=1.4.1-&gt;mlflow) (1.1.4)\r\n",
       "Requirement already satisfied: python-editor&gt;=0.3 in /databricks/python3/lib/python3.8/site-packages (from alembic&lt;=1.4.1-&gt;mlflow) (1.0.4)\r\n",
       "Requirement already satisfied: python-dateutil in /databricks/python3/lib/python3.8/site-packages (from alembic&lt;=1.4.1-&gt;mlflow) (2.8.1)\r\n",
       "Requirement already satisfied: gitdb&lt;5,&gt;=4.0.1 in /databricks/python3/lib/python3.8/site-packages (from gitpython&gt;=2.1.0-&gt;mlflow) (4.0.7)\r\n",
       "Requirement already satisfied: prometheus-client in /databricks/python3/lib/python3.8/site-packages (from prometheus-flask-exporter-&gt;mlflow) (0.11.0)\r\n",
       "Requirement already satisfied: MarkupSafe&gt;=2.0 in /databricks/python3/lib/python3.8/site-packages (from Jinja2&gt;=3.0-&gt;Flask-&gt;mlflow) (2.0.1)\r\n",
       "Requirement already satisfied: smmap&lt;5,&gt;=3.0.1 in /databricks/python3/lib/python3.8/site-packages (from gitdb&lt;5,&gt;=4.0.1-&gt;gitpython&gt;=2.1.0-&gt;mlflow) (4.0.0)\r\n",
       "<span class=\"ansi-yellow-fg\">WARNING: You are using pip version 20.2.4; however, version 21.1.3 is available.\r\n",
       "You should consider upgrading via the &#39;/databricks/python3/bin/python -m pip install --upgrade pip&#39; command.</span>\r\n",
       "</div>"
      ]
     },
     "metadata": {
      "application/vnd.databricks.v1+output": {
       "addedWidgets": {},
       "arguments": {},
       "data": "<div class=\"ansiout\">Requirement already satisfied: mlflow in /databricks/python3/lib/python3.8/site-packages (1.19.0)\r\nRequirement already satisfied: Flask in /databricks/python3/lib/python3.8/site-packages (from mlflow) (2.0.1)\r\nRequirement already satisfied: gunicorn; platform_system != &#34;Windows&#34; in /databricks/python3/lib/python3.8/site-packages (from mlflow) (20.1.0)\r\nRequirement already satisfied: sqlparse&gt;=0.3.1 in /databricks/python3/lib/python3.8/site-packages (from mlflow) (0.4.1)\r\nRequirement already satisfied: packaging in /databricks/python3/lib/python3.8/site-packages (from mlflow) (21.0)\r\nRequirement already satisfied: databricks-cli&gt;=0.8.7 in /databricks/python3/lib/python3.8/site-packages (from mlflow) (0.14.3)\r\nRequirement already satisfied: requests&gt;=2.17.3 in /databricks/python3/lib/python3.8/site-packages (from mlflow) (2.24.0)\r\nRequirement already satisfied: sqlalchemy in /databricks/python3/lib/python3.8/site-packages (from mlflow) (1.4.21)\r\nRequirement already satisfied: pytz in /databricks/python3/lib/python3.8/site-packages (from mlflow) (2020.5)\r\nRequirement already satisfied: protobuf&gt;=3.7.0 in /databricks/python3/lib/python3.8/site-packages (from mlflow) (3.17.0)\r\nRequirement already satisfied: docker&gt;=4.0.0 in /databricks/python3/lib/python3.8/site-packages (from mlflow) (5.0.0)\r\nRequirement already satisfied: cloudpickle in /databricks/python3/lib/python3.8/site-packages (from mlflow) (1.6.0)\r\nRequirement already satisfied: numpy in /databricks/python3/lib/python3.8/site-packages (from mlflow) (1.19.2)\r\nRequirement already satisfied: pyyaml&gt;=5.1 in /databricks/python3/lib/python3.8/site-packages (from mlflow) (5.4.1)\r\nRequirement already satisfied: alembic&lt;=1.4.1 in /databricks/python3/lib/python3.8/site-packages (from mlflow) (1.4.1)\r\nRequirement already satisfied: pandas in /databricks/python3/lib/python3.8/site-packages (from mlflow) (1.1.5)\r\nRequirement already satisfied: entrypoints in /databricks/python3/lib/python3.8/site-packages (from mlflow) (0.3)\r\nRequirement already satisfied: gitpython&gt;=2.1.0 in /databricks/python3/lib/python3.8/site-packages (from mlflow) (3.1.18)\r\nRequirement already satisfied: querystring-parser in /databricks/python3/lib/python3.8/site-packages (from mlflow) (1.2.4)\r\nRequirement already satisfied: prometheus-flask-exporter in /databricks/python3/lib/python3.8/site-packages (from mlflow) (0.18.2)\r\nRequirement already satisfied: click&gt;=7.0 in /databricks/python3/lib/python3.8/site-packages (from mlflow) (8.0.1)\r\nRequirement already satisfied: itsdangerous&gt;=2.0 in /databricks/python3/lib/python3.8/site-packages (from Flask-&gt;mlflow) (2.0.1)\r\nRequirement already satisfied: Werkzeug&gt;=2.0 in /databricks/python3/lib/python3.8/site-packages (from Flask-&gt;mlflow) (2.0.1)\r\nRequirement already satisfied: Jinja2&gt;=3.0 in /databricks/python3/lib/python3.8/site-packages (from Flask-&gt;mlflow) (3.0.1)\r\nRequirement already satisfied: setuptools&gt;=3.0 in /databricks/python3/lib/python3.8/site-packages (from gunicorn; platform_system != &#34;Windows&#34;-&gt;mlflow) (50.3.1)\r\nRequirement already satisfied: pyparsing&gt;=2.0.2 in /databricks/python3/lib/python3.8/site-packages (from packaging-&gt;mlflow) (2.4.7)\r\nRequirement already satisfied: six&gt;=1.10.0 in /databricks/python3/lib/python3.8/site-packages (from databricks-cli&gt;=0.8.7-&gt;mlflow) (1.15.0)\r\nRequirement already satisfied: tabulate&gt;=0.7.7 in /databricks/python3/lib/python3.8/site-packages (from databricks-cli&gt;=0.8.7-&gt;mlflow) (0.8.9)\r\nRequirement already satisfied: certifi&gt;=2017.4.17 in /databricks/python3/lib/python3.8/site-packages (from requests&gt;=2.17.3-&gt;mlflow) (2020.12.5)\r\nRequirement already satisfied: chardet&lt;4,&gt;=3.0.2 in /databricks/python3/lib/python3.8/site-packages (from requests&gt;=2.17.3-&gt;mlflow) (3.0.4)\r\nRequirement already satisfied: idna&lt;3,&gt;=2.5 in /databricks/python3/lib/python3.8/site-packages (from requests&gt;=2.17.3-&gt;mlflow) (2.10)\r\nRequirement already satisfied: urllib3!=1.25.0,!=1.25.1,&lt;1.26,&gt;=1.21.1 in /databricks/python3/lib/python3.8/site-packages (from requests&gt;=2.17.3-&gt;mlflow) (1.25.11)\r\nRequirement already satisfied: greenlet!=0.4.17; python_version &gt;= &#34;3&#34; in /databricks/python3/lib/python3.8/site-packages (from sqlalchemy-&gt;mlflow) (1.1.0)\r\nRequirement already satisfied: websocket-client&gt;=0.32.0 in /databricks/python3/lib/python3.8/site-packages (from docker&gt;=4.0.0-&gt;mlflow) (1.1.0)\r\nRequirement already satisfied: Mako in /databricks/python3/lib/python3.8/site-packages (from alembic&lt;=1.4.1-&gt;mlflow) (1.1.4)\r\nRequirement already satisfied: python-editor&gt;=0.3 in /databricks/python3/lib/python3.8/site-packages (from alembic&lt;=1.4.1-&gt;mlflow) (1.0.4)\r\nRequirement already satisfied: python-dateutil in /databricks/python3/lib/python3.8/site-packages (from alembic&lt;=1.4.1-&gt;mlflow) (2.8.1)\r\nRequirement already satisfied: gitdb&lt;5,&gt;=4.0.1 in /databricks/python3/lib/python3.8/site-packages (from gitpython&gt;=2.1.0-&gt;mlflow) (4.0.7)\r\nRequirement already satisfied: prometheus-client in /databricks/python3/lib/python3.8/site-packages (from prometheus-flask-exporter-&gt;mlflow) (0.11.0)\r\nRequirement already satisfied: MarkupSafe&gt;=2.0 in /databricks/python3/lib/python3.8/site-packages (from Jinja2&gt;=3.0-&gt;Flask-&gt;mlflow) (2.0.1)\r\nRequirement already satisfied: smmap&lt;5,&gt;=3.0.1 in /databricks/python3/lib/python3.8/site-packages (from gitdb&lt;5,&gt;=4.0.1-&gt;gitpython&gt;=2.1.0-&gt;mlflow) (4.0.0)\r\n<span class=\"ansi-yellow-fg\">WARNING: You are using pip version 20.2.4; however, version 21.1.3 is available.\r\nYou should consider upgrading via the &#39;/databricks/python3/bin/python -m pip install --upgrade pip&#39; command.</span>\r\n</div>",
       "datasetInfos": [],
       "metadata": {},
       "removedWidgets": [],
       "type": "html"
      }
     },
     "output_type": "display_data"
    }
   ],
   "source": [
    "!pip install mlflow\n"
   ]
  },
  {
   "cell_type": "code",
   "execution_count": 0,
   "metadata": {
    "application/vnd.databricks.v1+cell": {
     "inputWidgets": {},
     "nuid": "0baec2d8-36dc-46a5-b275-1518f088bbca",
     "showTitle": false,
     "title": ""
    }
   },
   "outputs": [
    {
     "data": {
      "text/html": [
       "<style scoped>\n",
       "  .ansiout {\n",
       "    display: block;\n",
       "    unicode-bidi: embed;\n",
       "    white-space: pre-wrap;\n",
       "    word-wrap: break-word;\n",
       "    word-break: break-all;\n",
       "    font-family: \"Source Code Pro\", \"Menlo\", monospace;;\n",
       "    font-size: 13px;\n",
       "    color: #555;\n",
       "    margin-left: 4px;\n",
       "    line-height: 19px;\n",
       "  }\n",
       "</style>\n",
       "<div class=\"ansiout\"></div>"
      ]
     },
     "metadata": {
      "application/vnd.databricks.v1+output": {
       "addedWidgets": {},
       "arguments": {},
       "data": "<div class=\"ansiout\"></div>",
       "datasetInfos": [],
       "metadata": {},
       "removedWidgets": [],
       "type": "html"
      }
     },
     "output_type": "display_data"
    }
   ],
   "source": [
    "from pyspark.ml.evaluation import RegressionEvaluator\n",
    "from pyspark.ml.recommendation import ALS\n",
    "from pyspark.sql import Row\n",
    "from pyspark.sql.functions import when\n",
    "from pyspark.ml.feature import StringIndexer, IndexToString\n",
    "import mlflow\n",
    "import mlflow.spark"
   ]
  },
  {
   "cell_type": "code",
   "execution_count": 0,
   "metadata": {
    "application/vnd.databricks.v1+cell": {
     "inputWidgets": {},
     "nuid": "77ef09c6-f270-4358-8b01-c7815623922c",
     "showTitle": false,
     "title": ""
    }
   },
   "outputs": [
    {
     "data": {
      "text/html": [
       "<style scoped>\n",
       "  .ansiout {\n",
       "    display: block;\n",
       "    unicode-bidi: embed;\n",
       "    white-space: pre-wrap;\n",
       "    word-wrap: break-word;\n",
       "    word-break: break-all;\n",
       "    font-family: \"Source Code Pro\", \"Menlo\", monospace;;\n",
       "    font-size: 13px;\n",
       "    color: #555;\n",
       "    margin-left: 4px;\n",
       "    line-height: 19px;\n",
       "  }\n",
       "</style>\n",
       "<div class=\"ansiout\">+--------------------+--------------------+--------------------+----+\n",
       "                 _c0|                 _c1|                 _c2| _c3|\n",
       "+--------------------+--------------------+--------------------+----+\n",
       "00000c289a1829a80...|3bd73256-3905-4f3...|     betty blowtorch|2137|\n",
       "00000c289a1829a80...|f2fb0ff0-5679-42e...|           die Ärzte|1099|\n",
       "00000c289a1829a80...|b3ae82c2-e60b-455...|   melissa etheridge| 897|\n",
       "00000c289a1829a80...|3d6bbeb7-f90e-4d1...|           elvenking| 717|\n",
       "00000c289a1829a80...|bbd2ffd7-17f4-450...|juliette &amp; the licks| 706|\n",
       "+--------------------+--------------------+--------------------+----+\n",
       "only showing top 5 rows\n",
       "\n",
       "</div>"
      ]
     },
     "metadata": {
      "application/vnd.databricks.v1+output": {
       "addedWidgets": {},
       "arguments": {},
       "data": "<div class=\"ansiout\">+--------------------+--------------------+--------------------+----+\n|                 _c0|                 _c1|                 _c2| _c3|\n+--------------------+--------------------+--------------------+----+\n|00000c289a1829a80...|3bd73256-3905-4f3...|     betty blowtorch|2137|\n|00000c289a1829a80...|f2fb0ff0-5679-42e...|           die Ärzte|1099|\n|00000c289a1829a80...|b3ae82c2-e60b-455...|   melissa etheridge| 897|\n|00000c289a1829a80...|3d6bbeb7-f90e-4d1...|           elvenking| 717|\n|00000c289a1829a80...|bbd2ffd7-17f4-450...|juliette &amp; the licks| 706|\n+--------------------+--------------------+--------------------+----+\nonly showing top 5 rows\n\n</div>",
       "datasetInfos": [],
       "metadata": {},
       "removedWidgets": [],
       "type": "html"
      }
     },
     "output_type": "display_data"
    }
   ],
   "source": [
    "df = spark.read.csv('dbfs:/FileStore/tables/lastfm-data/usersha1-artmbid-artname-plays.tsv', sep='\\t')\n",
    "df.show(5)"
   ]
  },
  {
   "cell_type": "code",
   "execution_count": 0,
   "metadata": {
    "application/vnd.databricks.v1+cell": {
     "inputWidgets": {},
     "nuid": "c0ff3317-3456-4489-8620-bc308647a4fa",
     "showTitle": false,
     "title": ""
    }
   },
   "outputs": [
    {
     "data": {
      "text/html": [
       "<style scoped>\n",
       "  .ansiout {\n",
       "    display: block;\n",
       "    unicode-bidi: embed;\n",
       "    white-space: pre-wrap;\n",
       "    word-wrap: break-word;\n",
       "    word-break: break-all;\n",
       "    font-family: \"Source Code Pro\", \"Menlo\", monospace;;\n",
       "    font-size: 13px;\n",
       "    color: #555;\n",
       "    margin-left: 4px;\n",
       "    line-height: 19px;\n",
       "  }\n",
       "</style>\n",
       "<div class=\"ansiout\"></div>"
      ]
     },
     "metadata": {
      "application/vnd.databricks.v1+output": {
       "addedWidgets": {},
       "arguments": {},
       "data": "<div class=\"ansiout\"></div>",
       "datasetInfos": [],
       "metadata": {},
       "removedWidgets": [],
       "type": "html"
      }
     },
     "output_type": "display_data"
    }
   ],
   "source": [
    "df = df.dropna()"
   ]
  },
  {
   "cell_type": "code",
   "execution_count": 0,
   "metadata": {
    "application/vnd.databricks.v1+cell": {
     "inputWidgets": {},
     "nuid": "af42566d-5a11-4b52-aa69-80dcef083daa",
     "showTitle": false,
     "title": ""
    }
   },
   "outputs": [
    {
     "data": {
      "text/html": [
       "<style scoped>\n",
       "  .ansiout {\n",
       "    display: block;\n",
       "    unicode-bidi: embed;\n",
       "    white-space: pre-wrap;\n",
       "    word-wrap: break-word;\n",
       "    word-break: break-all;\n",
       "    font-family: \"Source Code Pro\", \"Menlo\", monospace;;\n",
       "    font-size: 13px;\n",
       "    color: #555;\n",
       "    margin-left: 4px;\n",
       "    line-height: 19px;\n",
       "  }\n",
       "</style>\n",
       "<div class=\"ansiout\">+--------------------+--------------------+--------------------+-----+\n",
       "              userid|            artistid|          artistname|plays|\n",
       "+--------------------+--------------------+--------------------+-----+\n",
       "00000c289a1829a80...|3bd73256-3905-4f3...|     betty blowtorch| 2137|\n",
       "00000c289a1829a80...|f2fb0ff0-5679-42e...|           die Ärzte| 1099|\n",
       "00000c289a1829a80...|b3ae82c2-e60b-455...|   melissa etheridge|  897|\n",
       "00000c289a1829a80...|3d6bbeb7-f90e-4d1...|           elvenking|  717|\n",
       "00000c289a1829a80...|bbd2ffd7-17f4-450...|juliette &amp; the licks|  706|\n",
       "+--------------------+--------------------+--------------------+-----+\n",
       "only showing top 5 rows\n",
       "\n",
       "</div>"
      ]
     },
     "metadata": {
      "application/vnd.databricks.v1+output": {
       "addedWidgets": {},
       "arguments": {},
       "data": "<div class=\"ansiout\">+--------------------+--------------------+--------------------+-----+\n|              userid|            artistid|          artistname|plays|\n+--------------------+--------------------+--------------------+-----+\n|00000c289a1829a80...|3bd73256-3905-4f3...|     betty blowtorch| 2137|\n|00000c289a1829a80...|f2fb0ff0-5679-42e...|           die Ärzte| 1099|\n|00000c289a1829a80...|b3ae82c2-e60b-455...|   melissa etheridge|  897|\n|00000c289a1829a80...|3d6bbeb7-f90e-4d1...|           elvenking|  717|\n|00000c289a1829a80...|bbd2ffd7-17f4-450...|juliette &amp; the licks|  706|\n+--------------------+--------------------+--------------------+-----+\nonly showing top 5 rows\n\n</div>",
       "datasetInfos": [],
       "metadata": {},
       "removedWidgets": [],
       "type": "html"
      }
     },
     "output_type": "display_data"
    }
   ],
   "source": [
    "newNames = ['userid', 'artistid', 'artistname', 'plays']\n",
    "df = df.toDF(*newNames)\n",
    "df.show(5)"
   ]
  },
  {
   "cell_type": "code",
   "execution_count": 0,
   "metadata": {
    "application/vnd.databricks.v1+cell": {
     "inputWidgets": {},
     "nuid": "60201bbb-0245-4cc8-9334-f4b6ee82deb5",
     "showTitle": false,
     "title": ""
    }
   },
   "outputs": [
    {
     "data": {
      "text/html": [
       "<style scoped>\n",
       "  .ansiout {\n",
       "    display: block;\n",
       "    unicode-bidi: embed;\n",
       "    white-space: pre-wrap;\n",
       "    word-wrap: break-word;\n",
       "    word-break: break-all;\n",
       "    font-family: \"Source Code Pro\", \"Menlo\", monospace;;\n",
       "    font-size: 13px;\n",
       "    color: #555;\n",
       "    margin-left: 4px;\n",
       "    line-height: 19px;\n",
       "  }\n",
       "</style>\n",
       "<div class=\"ansiout\"></div>"
      ]
     },
     "metadata": {
      "application/vnd.databricks.v1+output": {
       "addedWidgets": {},
       "arguments": {},
       "data": "<div class=\"ansiout\"></div>",
       "datasetInfos": [],
       "metadata": {},
       "removedWidgets": [],
       "type": "html"
      }
     },
     "output_type": "display_data"
    }
   ],
   "source": [
    "# label encode users and artists\n",
    "userIndexer = StringIndexer(inputCol=\"userid\", outputCol=\"userIndex\")\n",
    "artistIndexer = StringIndexer(inputCol=\"artistid\", outputCol=\"artistIndex\")\n",
    "\n",
    "userDecoder = IndexToString(inputCol=\"userIndex\", outputCol=\"useridOrignial\")\n",
    "artistDecoder = IndexToString(inputCol=\"artistIndex\", outputCol=\"artistidOriginal\")\n",
    "\n",
    "df = userIndexer.setHandleInvalid(\"keep\").fit(df).transform(df) # sethandleInvalid(\"keep\") because randomSplit was throwing error about string Indexer. Null values?\n",
    "df = artistIndexer.setHandleInvalid(\"keep\").fit(df).transform(df)"
   ]
  },
  {
   "cell_type": "code",
   "execution_count": 0,
   "metadata": {
    "application/vnd.databricks.v1+cell": {
     "inputWidgets": {},
     "nuid": "541ee10f-ffa1-4037-8850-ac094f4e5255",
     "showTitle": false,
     "title": ""
    }
   },
   "outputs": [
    {
     "data": {
      "text/html": [
       "<style scoped>\n",
       "  .table-result-container {\n",
       "    max-height: 300px;\n",
       "    overflow: auto;\n",
       "  }\n",
       "  table, th, td {\n",
       "    border: 1px solid black;\n",
       "    border-collapse: collapse;\n",
       "  }\n",
       "  th, td {\n",
       "    padding: 5px;\n",
       "  }\n",
       "  th {\n",
       "    text-align: left;\n",
       "  }\n",
       "</style><div class='table-result-container'><table class='table-result'><thead style='background-color: white'><tr><th>userid</th><th>artistid</th><th>artistname</th><th>plays</th><th>userIndex</th><th>artistIndex</th></tr></thead><tbody><tr><td>00000c289a1829a808ac09c00daf10bc3c4e223b</td><td>3bd73256-3905-4f3a-97e2-8b341527f805</td><td>betty blowtorch</td><td>2137</td><td>126839.0</td><td>17191.0</td></tr><tr><td>00000c289a1829a808ac09c00daf10bc3c4e223b</td><td>f2fb0ff0-5679-42ec-a55c-15109ce6e320</td><td>die Ärzte</td><td>1099</td><td>126839.0</td><td>277.0</td></tr><tr><td>00000c289a1829a808ac09c00daf10bc3c4e223b</td><td>b3ae82c2-e60b-4551-a76d-6620f1b456aa</td><td>melissa etheridge</td><td>897</td><td>126839.0</td><td>3120.0</td></tr><tr><td>00000c289a1829a808ac09c00daf10bc3c4e223b</td><td>3d6bbeb7-f90e-4d10-b440-e153c0d10b53</td><td>elvenking</td><td>717</td><td>126839.0</td><td>1981.0</td></tr><tr><td>00000c289a1829a808ac09c00daf10bc3c4e223b</td><td>bbd2ffd7-17f4-4506-8572-c1ea58c3f9a8</td><td>juliette & the licks</td><td>706</td><td>126839.0</td><td>2121.0</td></tr></tbody></table></div>"
      ]
     },
     "metadata": {
      "application/vnd.databricks.v1+output": {
       "addedWidgets": {},
       "aggData": [],
       "aggError": "",
       "aggOverflow": false,
       "aggSchema": [],
       "aggSeriesLimitReached": false,
       "aggType": "",
       "arguments": {},
       "columnCustomDisplayInfos": {},
       "data": [
        [
         "00000c289a1829a808ac09c00daf10bc3c4e223b",
         "3bd73256-3905-4f3a-97e2-8b341527f805",
         "betty blowtorch",
         "2137",
         126839,
         17191
        ],
        [
         "00000c289a1829a808ac09c00daf10bc3c4e223b",
         "f2fb0ff0-5679-42ec-a55c-15109ce6e320",
         "die Ärzte",
         "1099",
         126839,
         277
        ],
        [
         "00000c289a1829a808ac09c00daf10bc3c4e223b",
         "b3ae82c2-e60b-4551-a76d-6620f1b456aa",
         "melissa etheridge",
         "897",
         126839,
         3120
        ],
        [
         "00000c289a1829a808ac09c00daf10bc3c4e223b",
         "3d6bbeb7-f90e-4d10-b440-e153c0d10b53",
         "elvenking",
         "717",
         126839,
         1981
        ],
        [
         "00000c289a1829a808ac09c00daf10bc3c4e223b",
         "bbd2ffd7-17f4-4506-8572-c1ea58c3f9a8",
         "juliette & the licks",
         "706",
         126839,
         2121
        ]
       ],
       "datasetInfos": [],
       "dbfsResultPath": null,
       "isJsonSchema": true,
       "metadata": {},
       "overflow": false,
       "plotOptions": {
        "customPlotOptions": {},
        "displayType": "table",
        "pivotAggregation": null,
        "pivotColumns": null,
        "xColumns": null,
        "yColumns": null
       },
       "removedWidgets": [],
       "schema": [
        {
         "metadata": "{}",
         "name": "userid",
         "type": "\"string\""
        },
        {
         "metadata": "{}",
         "name": "artistid",
         "type": "\"string\""
        },
        {
         "metadata": "{}",
         "name": "artistname",
         "type": "\"string\""
        },
        {
         "metadata": "{}",
         "name": "plays",
         "type": "\"string\""
        },
        {
         "metadata": "{}",
         "name": "userIndex",
         "type": "\"double\""
        },
        {
         "metadata": "{}",
         "name": "artistIndex",
         "type": "\"double\""
        }
       ],
       "type": "table"
      }
     },
     "output_type": "display_data"
    }
   ],
   "source": [
    "display(df.take(5))"
   ]
  },
  {
   "cell_type": "code",
   "execution_count": 0,
   "metadata": {
    "application/vnd.databricks.v1+cell": {
     "inputWidgets": {},
     "nuid": "9027abd9-a2a6-4dca-a5be-3b1e4481eac0",
     "showTitle": false,
     "title": ""
    }
   },
   "outputs": [
    {
     "data": {
      "text/html": [
       "<style scoped>\n",
       "  .ansiout {\n",
       "    display: block;\n",
       "    unicode-bidi: embed;\n",
       "    white-space: pre-wrap;\n",
       "    word-wrap: break-word;\n",
       "    word-break: break-all;\n",
       "    font-family: \"Source Code Pro\", \"Menlo\", monospace;;\n",
       "    font-size: 13px;\n",
       "    color: #555;\n",
       "    margin-left: 4px;\n",
       "    line-height: 19px;\n",
       "  }\n",
       "</style>\n",
       "<div class=\"ansiout\"></div>"
      ]
     },
     "metadata": {
      "application/vnd.databricks.v1+output": {
       "addedWidgets": {},
       "arguments": {},
       "data": "<div class=\"ansiout\"></div>",
       "datasetInfos": [],
       "metadata": {},
       "removedWidgets": [],
       "type": "html"
      }
     },
     "output_type": "display_data"
    }
   ],
   "source": [
    "df2 = df.withColumn(\"ratings\", when(df.plays>50, 1).otherwise(0))\n",
    "# df2.describe().show()"
   ]
  },
  {
   "cell_type": "code",
   "execution_count": 0,
   "metadata": {
    "application/vnd.databricks.v1+cell": {
     "inputWidgets": {},
     "nuid": "63ff7cfe-9535-4634-8665-53ba28c34eea",
     "showTitle": false,
     "title": ""
    }
   },
   "outputs": [
    {
     "data": {
      "text/html": [
       "<style scoped>\n",
       "  .ansiout {\n",
       "    display: block;\n",
       "    unicode-bidi: embed;\n",
       "    white-space: pre-wrap;\n",
       "    word-wrap: break-word;\n",
       "    word-break: break-all;\n",
       "    font-family: \"Source Code Pro\", \"Menlo\", monospace;;\n",
       "    font-size: 13px;\n",
       "    color: #555;\n",
       "    margin-left: 4px;\n",
       "    line-height: 19px;\n",
       "  }\n",
       "</style>\n",
       "<div class=\"ansiout\">Out[8]: [(&#39;userIndex&#39;, &#39;int&#39;), (&#39;artistIndex&#39;, &#39;int&#39;), (&#39;ratings&#39;, &#39;float&#39;)]</div>"
      ]
     },
     "metadata": {
      "application/vnd.databricks.v1+output": {
       "addedWidgets": {},
       "arguments": {},
       "data": "<div class=\"ansiout\">Out[8]: [(&#39;userIndex&#39;, &#39;int&#39;), (&#39;artistIndex&#39;, &#39;int&#39;), (&#39;ratings&#39;, &#39;float&#39;)]</div>",
       "datasetInfos": [],
       "metadata": {},
       "removedWidgets": [],
       "type": "html"
      }
     },
     "output_type": "display_data"
    }
   ],
   "source": [
    "# data = df.select(\"userIndex\", \"artistIndex\", \"plays\")\n",
    "# data = df.selectExpr(\"INT(userIndex)\",\"INT(artistIndex)\",\"FLOAT(plays)\",\"FLOAT(ratings)\", \"userid\", \"artistId\")\n",
    "data_demo = df2.selectExpr(\"INT(userIndex)\",\"INT(artistIndex)\",\"FLOAT(ratings)\")\n",
    "\n",
    "data_demo.dtypes"
   ]
  },
  {
   "cell_type": "code",
   "execution_count": 0,
   "metadata": {
    "application/vnd.databricks.v1+cell": {
     "inputWidgets": {},
     "nuid": "894c538f-cd63-46a3-9fef-161b7c5b045f",
     "showTitle": false,
     "title": ""
    }
   },
   "outputs": [
    {
     "data": {
      "text/html": [
       "<style scoped>\n",
       "  .ansiout {\n",
       "    display: block;\n",
       "    unicode-bidi: embed;\n",
       "    white-space: pre-wrap;\n",
       "    word-wrap: break-word;\n",
       "    word-break: break-all;\n",
       "    font-family: \"Source Code Pro\", \"Menlo\", monospace;;\n",
       "    font-size: 13px;\n",
       "    color: #555;\n",
       "    margin-left: 4px;\n",
       "    line-height: 19px;\n",
       "  }\n",
       "</style>\n",
       "<div class=\"ansiout\"></div>"
      ]
     },
     "metadata": {
      "application/vnd.databricks.v1+output": {
       "addedWidgets": {},
       "arguments": {},
       "data": "<div class=\"ansiout\"></div>",
       "datasetInfos": [],
       "metadata": {},
       "removedWidgets": [],
       "type": "html"
      }
     },
     "output_type": "display_data"
    }
   ],
   "source": [
    "(demo, rest) = data_demo.randomSplit([0.1, 0.9])"
   ]
  },
  {
   "cell_type": "code",
   "execution_count": 0,
   "metadata": {
    "application/vnd.databricks.v1+cell": {
     "inputWidgets": {},
     "nuid": "0f8d8dcf-9a90-40b6-84bd-36e29e7881ed",
     "showTitle": false,
     "title": ""
    }
   },
   "outputs": [
    {
     "data": {
      "text/html": [
       "<style scoped>\n",
       "  .ansiout {\n",
       "    display: block;\n",
       "    unicode-bidi: embed;\n",
       "    white-space: pre-wrap;\n",
       "    word-wrap: break-word;\n",
       "    word-break: break-all;\n",
       "    font-family: \"Source Code Pro\", \"Menlo\", monospace;;\n",
       "    font-size: 13px;\n",
       "    color: #555;\n",
       "    margin-left: 4px;\n",
       "    line-height: 19px;\n",
       "  }\n",
       "</style>\n",
       "<div class=\"ansiout\"></div>"
      ]
     },
     "metadata": {
      "application/vnd.databricks.v1+output": {
       "addedWidgets": {},
       "arguments": {},
       "data": "<div class=\"ansiout\"></div>",
       "datasetInfos": [],
       "metadata": {},
       "removedWidgets": [],
       "type": "html"
      }
     },
     "output_type": "display_data"
    },
    {
     "data": {
      "text/html": [
       "<style scoped>\n",
       "  .ansiout {\n",
       "    display: block;\n",
       "    unicode-bidi: embed;\n",
       "    white-space: pre-wrap;\n",
       "    word-wrap: break-word;\n",
       "    word-break: break-all;\n",
       "    font-family: \"Source Code Pro\", \"Menlo\", monospace;;\n",
       "    font-size: 13px;\n",
       "    color: #555;\n",
       "    margin-left: 4px;\n",
       "    line-height: 19px;\n",
       "  }\n",
       "</style>\n",
       "<div class=\"ansiout\"><span class=\"ansi-red-fg\">---------------------------------------------------------------------------</span>\n",
       "<span class=\"ansi-red-fg\">NameError</span>                                 Traceback (most recent call last)\n",
       "<span class=\"ansi-green-fg\">&lt;command-2558517743205188&gt;</span> in <span class=\"ansi-cyan-fg\">&lt;module&gt;</span>\n",
       "<span class=\"ansi-green-fg\">----&gt; 1</span><span class=\"ansi-red-fg\"> mlflow_set_experiment(experiment_name =&#34;lastfm-als-experiment1&#34;,\n",
       "</span><span class=\"ansi-green-intense-fg ansi-bold\">      2</span>                      artifact_location = &#34;/Users/sengarnh@mail.uc.edu/mxm/&#34;)\n",
       "\n",
       "<span class=\"ansi-red-fg\">NameError</span>: name &#39;mlflow_set_experiment&#39; is not defined</div>"
      ]
     },
     "metadata": {
      "application/vnd.databricks.v1+output": {
       "arguments": {},
       "data": "<div class=\"ansiout\"><span class=\"ansi-red-fg\">---------------------------------------------------------------------------</span>\n<span class=\"ansi-red-fg\">NameError</span>                                 Traceback (most recent call last)\n<span class=\"ansi-green-fg\">&lt;command-2558517743205188&gt;</span> in <span class=\"ansi-cyan-fg\">&lt;module&gt;</span>\n<span class=\"ansi-green-fg\">----&gt; 1</span><span class=\"ansi-red-fg\"> mlflow_set_experiment(experiment_name =&#34;lastfm-als-experiment1&#34;,\n</span><span class=\"ansi-green-intense-fg ansi-bold\">      2</span>                      artifact_location = &#34;/Users/sengarnh@mail.uc.edu/mxm/&#34;)\n\n<span class=\"ansi-red-fg\">NameError</span>: name &#39;mlflow_set_experiment&#39; is not defined</div>",
       "errorSummary": "<span class=\"ansi-red-fg\">NameError</span>: name &#39;mlflow_set_experiment&#39; is not defined",
       "errorTraceType": "html",
       "metadata": {},
       "type": "ipynbError"
      }
     },
     "output_type": "display_data"
    }
   ],
   "source": [
    "mlflow_set_experiment(experiment_name =\"lastfm-als-experiment1\",\n",
    "                     artifact_location = \"/Users/sengarnh@mail.uc.edu/mxm/\")"
   ]
  },
  {
   "cell_type": "code",
   "execution_count": 0,
   "metadata": {
    "application/vnd.databricks.v1+cell": {
     "inputWidgets": {},
     "nuid": "481d63d6-8e01-4ecc-97ce-20e4c76689c0",
     "showTitle": false,
     "title": ""
    }
   },
   "outputs": [
    {
     "data": {
      "text/html": [
       "<style scoped>\n",
       "  .ansiout {\n",
       "    display: block;\n",
       "    unicode-bidi: embed;\n",
       "    white-space: pre-wrap;\n",
       "    word-wrap: break-word;\n",
       "    word-break: break-all;\n",
       "    font-family: \"Source Code Pro\", \"Menlo\", monospace;;\n",
       "    font-size: 13px;\n",
       "    color: #555;\n",
       "    margin-left: 4px;\n",
       "    line-height: 19px;\n",
       "  }\n",
       "</style>\n",
       "<div class=\"ansiout\">RANK= 5 :Root-mean-square error = 0.818411144457406\n",
       "RANK= 10 :Root-mean-square error = 0.8191470517639242\n",
       "RANK= 15 :Root-mean-square error = 0.8187125598742055\n",
       "RANK= 5 :Root-mean-square error = 0.8181080202245553\n",
       "RANK= 10 :Root-mean-square error = 0.8180307222996517\n",
       "RANK= 15 :Root-mean-square error = 0.8177529099192312\n",
       "RANK= 5 :Root-mean-square error = 0.8177355793716493\n",
       "RANK= 10 :Root-mean-square error = 0.816826310656652\n",
       "RANK= 15 :Root-mean-square error = 0.8156793180932668\n",
       "</div>"
      ]
     },
     "metadata": {
      "application/vnd.databricks.v1+output": {
       "addedWidgets": {},
       "arguments": {},
       "data": "<div class=\"ansiout\">RANK= 5 :Root-mean-square error = 0.818411144457406\nRANK= 10 :Root-mean-square error = 0.8191470517639242\nRANK= 15 :Root-mean-square error = 0.8187125598742055\nRANK= 5 :Root-mean-square error = 0.8181080202245553\nRANK= 10 :Root-mean-square error = 0.8180307222996517\nRANK= 15 :Root-mean-square error = 0.8177529099192312\nRANK= 5 :Root-mean-square error = 0.8177355793716493\nRANK= 10 :Root-mean-square error = 0.816826310656652\nRANK= 15 :Root-mean-square error = 0.8156793180932668\n</div>",
       "datasetInfos": [],
       "metadata": {},
       "removedWidgets": [],
       "type": "html"
      }
     },
     "output_type": "display_data"
    }
   ],
   "source": [
    "# source: docs \n",
    "# ratingsRDD = parts.map(lambda p: Row(userId=int(p[0]), movieId=int(p[1]), rating=float(p[2]), timestamp=int(p[3])))\n",
    "# ratings = spark.createDataFrame(ratingsRDD)\n",
    "\n",
    "\n",
    "\n",
    "alphas = [0.1, 0.5, 1]\n",
    "ranks = [5, 10, 15]\n",
    "for alpha in alphas:\n",
    "  for rank in ranks:\n",
    "    (training, test) = demo.randomSplit([0.8, 0.2])\n",
    "    with mlflow.start_run(run_name='lastfm-als'):\n",
    "\n",
    "      als = ALS(userCol=\"userIndex\", itemCol=\"artistIndex\", ratingCol=\"ratings\",\n",
    "                implicitPrefs=True)\n",
    "      als.setMaxIter(5)\n",
    "      als.setRegParam(0.1)\n",
    "      als.setRank(rank)\n",
    "      als.setAlpha(alpha)\n",
    "\n",
    "      mlflow.log_param(\"model\", \"als\")\n",
    "      mlflow.log_param(\"maxIter\", als.getMaxIter())\n",
    "      mlflow.log_param(\"regParam\", als.getRegParam())\n",
    "      mlflow.log_param(\"rank\", rank)\n",
    "      mlflow.log_param(\"alpha\", alpha)\n",
    "      mlflow.log_param(\"implicitPrefs\", als.getImplicitPrefs())\n",
    "\n",
    "      model = als.fit(training)\n",
    "      predictions = model.transform(test)\n",
    "      predictions = predictions.filter(predictions.prediction != float('nan'))\n",
    "      evaluator = RegressionEvaluator(metricName=\"rmse\", labelCol=\"ratings\",predictionCol=\"prediction\")\n",
    "      rmse = evaluator.evaluate(predictions)\n",
    "      mlflow.log_metric(\"rmse\", rmse)\n",
    "      print(\"RANK= %s :Root-mean-square error = %s\" %(str(rank), str(rmse)))"
   ]
  },
  {
   "cell_type": "code",
   "execution_count": 0,
   "metadata": {
    "application/vnd.databricks.v1+cell": {
     "inputWidgets": {},
     "nuid": "07ce6ba9-48a3-4e21-beac-b3cf5064e4fd",
     "showTitle": false,
     "title": ""
    }
   },
   "outputs": [
    {
     "data": {
      "text/html": [
       "<style scoped>\n",
       "  .ansiout {\n",
       "    display: block;\n",
       "    unicode-bidi: embed;\n",
       "    white-space: pre-wrap;\n",
       "    word-wrap: break-word;\n",
       "    word-break: break-all;\n",
       "    font-family: \"Source Code Pro\", \"Menlo\", monospace;;\n",
       "    font-size: 13px;\n",
       "    color: #555;\n",
       "    margin-left: 4px;\n",
       "    line-height: 19px;\n",
       "  }\n",
       "</style>\n",
       "<div class=\"ansiout\"></div>"
      ]
     },
     "metadata": {
      "application/vnd.databricks.v1+output": {
       "addedWidgets": {},
       "arguments": {},
       "data": "<div class=\"ansiout\"></div>",
       "datasetInfos": [],
       "metadata": {},
       "removedWidgets": [],
       "type": "html"
      }
     },
     "output_type": "display_data"
    },
    {
     "data": {
      "text/html": [
       "<style scoped>\n",
       "  .ansiout {\n",
       "    display: block;\n",
       "    unicode-bidi: embed;\n",
       "    white-space: pre-wrap;\n",
       "    word-wrap: break-word;\n",
       "    word-break: break-all;\n",
       "    font-family: \"Source Code Pro\", \"Menlo\", monospace;;\n",
       "    font-size: 13px;\n",
       "    color: #555;\n",
       "    margin-left: 4px;\n",
       "    line-height: 19px;\n",
       "  }\n",
       "</style>\n",
       "<div class=\"ansiout\"><span class=\"ansi-red-fg\">---------------------------------------------------------------------------</span>\n",
       "<span class=\"ansi-red-fg\">InvalidConfigurationError</span>                 Traceback (most recent call last)\n",
       "<span class=\"ansi-green-fg\">&lt;command-440421022018919&gt;</span> in <span class=\"ansi-cyan-fg\">&lt;module&gt;</span>\n",
       "<span class=\"ansi-green-fg\">----&gt; 1</span><span class=\"ansi-red-fg\"> </span>run_id <span class=\"ansi-blue-fg\">=</span> mlflow<span class=\"ansi-blue-fg\">.</span>search_runs<span class=\"ansi-blue-fg\">(</span>filter_string<span class=\"ansi-blue-fg\">=</span><span class=\"ansi-blue-fg\">&#39;tags.mlflow.runName = &#34;lastfm-als&#34;&#39;</span><span class=\"ansi-blue-fg\">)</span><span class=\"ansi-blue-fg\">.</span>iloc<span class=\"ansi-blue-fg\">[</span><span class=\"ansi-cyan-fg\">0</span><span class=\"ansi-blue-fg\">]</span><span class=\"ansi-blue-fg\">.</span>run_id\n",
       "<span class=\"ansi-green-intense-fg ansi-bold\">      2</span> \n",
       "<span class=\"ansi-green-intense-fg ansi-bold\">      3</span> model_name <span class=\"ansi-blue-fg\">=</span> <span class=\"ansi-blue-fg\">&#34;lastfm-als-model&#34;</span>\n",
       "<span class=\"ansi-green-intense-fg ansi-bold\">      4</span> \n",
       "<span class=\"ansi-green-intense-fg ansi-bold\">      5</span> model_version <span class=\"ansi-blue-fg\">=</span> mlflow<span class=\"ansi-blue-fg\">.</span>register_model<span class=\"ansi-blue-fg\">(</span><span class=\"ansi-blue-fg\">f&#34;runs:/{run_id}/lastfm-als&#34;</span><span class=\"ansi-blue-fg\">,</span> model_name<span class=\"ansi-blue-fg\">)</span>\n",
       "\n",
       "<span class=\"ansi-green-fg\">/databricks/python/lib/python3.8/site-packages/mlflow/tracking/fluent.py</span> in <span class=\"ansi-cyan-fg\">search_runs</span><span class=\"ansi-blue-fg\">(experiment_ids, filter_string, run_view_type, max_results, order_by, output_format)</span>\n",
       "<span class=\"ansi-green-intense-fg ansi-bold\">   1061</span>         )\n",
       "<span class=\"ansi-green-intense-fg ansi-bold\">   1062</span> \n",
       "<span class=\"ansi-green-fg\">-&gt; 1063</span><span class=\"ansi-red-fg\">     </span>runs <span class=\"ansi-blue-fg\">=</span> _paginate<span class=\"ansi-blue-fg\">(</span>pagination_wrapper_func<span class=\"ansi-blue-fg\">,</span> NUM_RUNS_PER_PAGE_PANDAS<span class=\"ansi-blue-fg\">,</span> max_results<span class=\"ansi-blue-fg\">)</span>\n",
       "<span class=\"ansi-green-intense-fg ansi-bold\">   1064</span> \n",
       "<span class=\"ansi-green-intense-fg ansi-bold\">   1065</span>     <span class=\"ansi-green-fg\">if</span> output_format <span class=\"ansi-blue-fg\">==</span> <span class=\"ansi-blue-fg\">&#34;list&#34;</span><span class=\"ansi-blue-fg\">:</span>\n",
       "\n",
       "<span class=\"ansi-green-fg\">/databricks/python/lib/python3.8/site-packages/mlflow/tracking/fluent.py</span> in <span class=\"ansi-cyan-fg\">_paginate</span><span class=\"ansi-blue-fg\">(paginated_fn, max_results_per_page, max_results)</span>\n",
       "<span class=\"ansi-green-intense-fg ansi-bold\">   1232</span>             page_results <span class=\"ansi-blue-fg\">=</span> paginated_fn<span class=\"ansi-blue-fg\">(</span>num_to_get<span class=\"ansi-blue-fg\">,</span> next_page_token<span class=\"ansi-blue-fg\">)</span>\n",
       "<span class=\"ansi-green-intense-fg ansi-bold\">   1233</span>         <span class=\"ansi-green-fg\">else</span><span class=\"ansi-blue-fg\">:</span>\n",
       "<span class=\"ansi-green-fg\">-&gt; 1234</span><span class=\"ansi-red-fg\">             </span>page_results <span class=\"ansi-blue-fg\">=</span> paginated_fn<span class=\"ansi-blue-fg\">(</span>max_results_per_page<span class=\"ansi-blue-fg\">,</span> next_page_token<span class=\"ansi-blue-fg\">)</span>\n",
       "<span class=\"ansi-green-intense-fg ansi-bold\">   1235</span>         all_results<span class=\"ansi-blue-fg\">.</span>extend<span class=\"ansi-blue-fg\">(</span>page_results<span class=\"ansi-blue-fg\">)</span>\n",
       "<span class=\"ansi-green-intense-fg ansi-bold\">   1236</span>         <span class=\"ansi-green-fg\">if</span> hasattr<span class=\"ansi-blue-fg\">(</span>page_results<span class=\"ansi-blue-fg\">,</span> <span class=\"ansi-blue-fg\">&#34;token&#34;</span><span class=\"ansi-blue-fg\">)</span> <span class=\"ansi-green-fg\">and</span> page_results<span class=\"ansi-blue-fg\">.</span>token<span class=\"ansi-blue-fg\">:</span>\n",
       "\n",
       "<span class=\"ansi-green-fg\">/databricks/python/lib/python3.8/site-packages/mlflow/tracking/fluent.py</span> in <span class=\"ansi-cyan-fg\">pagination_wrapper_func</span><span class=\"ansi-blue-fg\">(number_to_get, next_page_token)</span>\n",
       "<span class=\"ansi-green-intense-fg ansi-bold\">   1057</span>     <span class=\"ansi-red-fg\"># full thing is a mess</span>\n",
       "<span class=\"ansi-green-intense-fg ansi-bold\">   1058</span>     <span class=\"ansi-green-fg\">def</span> pagination_wrapper_func<span class=\"ansi-blue-fg\">(</span>number_to_get<span class=\"ansi-blue-fg\">,</span> next_page_token<span class=\"ansi-blue-fg\">)</span><span class=\"ansi-blue-fg\">:</span>\n",
       "<span class=\"ansi-green-fg\">-&gt; 1059</span><span class=\"ansi-red-fg\">         return MlflowClient().search_runs(\n",
       "</span><span class=\"ansi-green-intense-fg ansi-bold\">   1060</span>             experiment_ids<span class=\"ansi-blue-fg\">,</span> filter_string<span class=\"ansi-blue-fg\">,</span> run_view_type<span class=\"ansi-blue-fg\">,</span> number_to_get<span class=\"ansi-blue-fg\">,</span> order_by<span class=\"ansi-blue-fg\">,</span> next_page_token<span class=\"ansi-blue-fg\">,</span>\n",
       "<span class=\"ansi-green-intense-fg ansi-bold\">   1061</span>         )\n",
       "\n",
       "<span class=\"ansi-green-fg\">/databricks/python/lib/python3.8/site-packages/mlflow/tracking/client.py</span> in <span class=\"ansi-cyan-fg\">search_runs</span><span class=\"ansi-blue-fg\">(self, experiment_ids, filter_string, run_view_type, max_results, order_by, page_token)</span>\n",
       "<span class=\"ansi-green-intense-fg ansi-bold\">   1588</span>             tags<span class=\"ansi-blue-fg\">:</span> <span class=\"ansi-blue-fg\">{</span><span class=\"ansi-blue-fg\">&#39;s.release&#39;</span><span class=\"ansi-blue-fg\">:</span> <span class=\"ansi-blue-fg\">&#39;1.1.0-RC&#39;</span><span class=\"ansi-blue-fg\">}</span>\n",
       "<span class=\"ansi-green-intense-fg ansi-bold\">   1589</span>         &#34;&#34;&#34;\n",
       "<span class=\"ansi-green-fg\">-&gt; 1590</span><span class=\"ansi-red-fg\">         return self._tracking_client.search_runs(\n",
       "</span><span class=\"ansi-green-intense-fg ansi-bold\">   1591</span>             experiment_ids<span class=\"ansi-blue-fg\">,</span> filter_string<span class=\"ansi-blue-fg\">,</span> run_view_type<span class=\"ansi-blue-fg\">,</span> max_results<span class=\"ansi-blue-fg\">,</span> order_by<span class=\"ansi-blue-fg\">,</span> page_token\n",
       "<span class=\"ansi-green-intense-fg ansi-bold\">   1592</span>         )\n",
       "\n",
       "<span class=\"ansi-green-fg\">/databricks/python/lib/python3.8/site-packages/mlflow/tracking/_tracking_service/client.py</span> in <span class=\"ansi-cyan-fg\">search_runs</span><span class=\"ansi-blue-fg\">(self, experiment_ids, filter_string, run_view_type, max_results, order_by, page_token)</span>\n",
       "<span class=\"ansi-green-intense-fg ansi-bold\">    407</span>         <span class=\"ansi-green-fg\">if</span> isinstance<span class=\"ansi-blue-fg\">(</span>experiment_ids<span class=\"ansi-blue-fg\">,</span> int<span class=\"ansi-blue-fg\">)</span> <span class=\"ansi-green-fg\">or</span> is_string_type<span class=\"ansi-blue-fg\">(</span>experiment_ids<span class=\"ansi-blue-fg\">)</span><span class=\"ansi-blue-fg\">:</span>\n",
       "<span class=\"ansi-green-intense-fg ansi-bold\">    408</span>             experiment_ids <span class=\"ansi-blue-fg\">=</span> <span class=\"ansi-blue-fg\">[</span>experiment_ids<span class=\"ansi-blue-fg\">]</span>\n",
       "<span class=\"ansi-green-fg\">--&gt; 409</span><span class=\"ansi-red-fg\">         return self.store.search_runs(\n",
       "</span><span class=\"ansi-green-intense-fg ansi-bold\">    410</span>             experiment_ids<span class=\"ansi-blue-fg\">=</span>experiment_ids<span class=\"ansi-blue-fg\">,</span>\n",
       "<span class=\"ansi-green-intense-fg ansi-bold\">    411</span>             filter_string<span class=\"ansi-blue-fg\">=</span>filter_string<span class=\"ansi-blue-fg\">,</span>\n",
       "\n",
       "<span class=\"ansi-green-fg\">/databricks/python/lib/python3.8/site-packages/mlflow/store/tracking/abstract_store.py</span> in <span class=\"ansi-cyan-fg\">search_runs</span><span class=\"ansi-blue-fg\">(self, experiment_ids, filter_string, run_view_type, max_results, order_by, page_token)</span>\n",
       "<span class=\"ansi-green-intense-fg ansi-bold\">    240</span>             meaningful <span class=\"ansi-green-fg\">in</span> such cases<span class=\"ansi-blue-fg\">.</span>\n",
       "<span class=\"ansi-green-intense-fg ansi-bold\">    241</span>         &#34;&#34;&#34;\n",
       "<span class=\"ansi-green-fg\">--&gt; 242</span><span class=\"ansi-red-fg\">         runs, token = self._search_runs(\n",
       "</span><span class=\"ansi-green-intense-fg ansi-bold\">    243</span>             experiment_ids<span class=\"ansi-blue-fg\">,</span> filter_string<span class=\"ansi-blue-fg\">,</span> run_view_type<span class=\"ansi-blue-fg\">,</span> max_results<span class=\"ansi-blue-fg\">,</span> order_by<span class=\"ansi-blue-fg\">,</span> page_token\n",
       "<span class=\"ansi-green-intense-fg ansi-bold\">    244</span>         )\n",
       "\n",
       "<span class=\"ansi-green-fg\">/databricks/python/lib/python3.8/site-packages/mlflow/store/tracking/rest_store.py</span> in <span class=\"ansi-cyan-fg\">_search_runs</span><span class=\"ansi-blue-fg\">(self, experiment_ids, filter_string, run_view_type, max_results, order_by, page_token)</span>\n",
       "<span class=\"ansi-green-intense-fg ansi-bold\">    257</span>         )\n",
       "<span class=\"ansi-green-intense-fg ansi-bold\">    258</span>         req_body <span class=\"ansi-blue-fg\">=</span> message_to_json<span class=\"ansi-blue-fg\">(</span>sr<span class=\"ansi-blue-fg\">)</span>\n",
       "<span class=\"ansi-green-fg\">--&gt; 259</span><span class=\"ansi-red-fg\">         </span>response_proto <span class=\"ansi-blue-fg\">=</span> self<span class=\"ansi-blue-fg\">.</span>_call_endpoint<span class=\"ansi-blue-fg\">(</span>SearchRuns<span class=\"ansi-blue-fg\">,</span> req_body<span class=\"ansi-blue-fg\">)</span>\n",
       "<span class=\"ansi-green-intense-fg ansi-bold\">    260</span>         runs <span class=\"ansi-blue-fg\">=</span> <span class=\"ansi-blue-fg\">[</span>Run<span class=\"ansi-blue-fg\">.</span>from_proto<span class=\"ansi-blue-fg\">(</span>proto_run<span class=\"ansi-blue-fg\">)</span> <span class=\"ansi-green-fg\">for</span> proto_run <span class=\"ansi-green-fg\">in</span> response_proto<span class=\"ansi-blue-fg\">.</span>runs<span class=\"ansi-blue-fg\">]</span>\n",
       "<span class=\"ansi-green-intense-fg ansi-bold\">    261</span>         <span class=\"ansi-red-fg\"># If next_page_token is not set, we will see it as &#34;&#34;. We need to convert this to None.</span>\n",
       "\n",
       "<span class=\"ansi-green-fg\">/databricks/python/lib/python3.8/site-packages/mlflow/store/tracking/rest_store.py</span> in <span class=\"ansi-cyan-fg\">_call_endpoint</span><span class=\"ansi-blue-fg\">(self, api, json_body)</span>\n",
       "<span class=\"ansi-green-intense-fg ansi-bold\">     54</span>         endpoint<span class=\"ansi-blue-fg\">,</span> method <span class=\"ansi-blue-fg\">=</span> _METHOD_TO_INFO<span class=\"ansi-blue-fg\">[</span>api<span class=\"ansi-blue-fg\">]</span>\n",
       "<span class=\"ansi-green-intense-fg ansi-bold\">     55</span>         response_proto <span class=\"ansi-blue-fg\">=</span> api<span class=\"ansi-blue-fg\">.</span>Response<span class=\"ansi-blue-fg\">(</span><span class=\"ansi-blue-fg\">)</span>\n",
       "<span class=\"ansi-green-fg\">---&gt; 56</span><span class=\"ansi-red-fg\">         </span><span class=\"ansi-green-fg\">return</span> call_endpoint<span class=\"ansi-blue-fg\">(</span>self<span class=\"ansi-blue-fg\">.</span>get_host_creds<span class=\"ansi-blue-fg\">(</span><span class=\"ansi-blue-fg\">)</span><span class=\"ansi-blue-fg\">,</span> endpoint<span class=\"ansi-blue-fg\">,</span> method<span class=\"ansi-blue-fg\">,</span> json_body<span class=\"ansi-blue-fg\">,</span> response_proto<span class=\"ansi-blue-fg\">)</span>\n",
       "<span class=\"ansi-green-intense-fg ansi-bold\">     57</span> \n",
       "<span class=\"ansi-green-intense-fg ansi-bold\">     58</span>     def list_experiments(\n",
       "\n",
       "<span class=\"ansi-green-fg\">/databricks/python/lib/python3.8/site-packages/mlflow/tracking/_tracking_service/utils.py</span> in <span class=\"ansi-cyan-fg\">&lt;lambda&gt;</span><span class=\"ansi-blue-fg\">()</span>\n",
       "<span class=\"ansi-green-intense-fg ansi-bold\">    135</span> \n",
       "<span class=\"ansi-green-intense-fg ansi-bold\">    136</span> <span class=\"ansi-green-fg\">def</span> _get_databricks_rest_store<span class=\"ansi-blue-fg\">(</span>store_uri<span class=\"ansi-blue-fg\">,</span> <span class=\"ansi-blue-fg\">**</span>_<span class=\"ansi-blue-fg\">)</span><span class=\"ansi-blue-fg\">:</span>\n",
       "<span class=\"ansi-green-fg\">--&gt; 137</span><span class=\"ansi-red-fg\">     </span><span class=\"ansi-green-fg\">return</span> DatabricksRestStore<span class=\"ansi-blue-fg\">(</span><span class=\"ansi-green-fg\">lambda</span><span class=\"ansi-blue-fg\">:</span> get_databricks_host_creds<span class=\"ansi-blue-fg\">(</span>store_uri<span class=\"ansi-blue-fg\">)</span><span class=\"ansi-blue-fg\">)</span>\n",
       "<span class=\"ansi-green-intense-fg ansi-bold\">    138</span> \n",
       "<span class=\"ansi-green-intense-fg ansi-bold\">    139</span> \n",
       "\n",
       "<span class=\"ansi-green-fg\">/databricks/python/lib/python3.8/site-packages/mlflow/utils/databricks_utils.py</span> in <span class=\"ansi-cyan-fg\">get_databricks_host_creds</span><span class=\"ansi-blue-fg\">(server_uri)</span>\n",
       "<span class=\"ansi-green-intense-fg ansi-bold\">    310</span>         config <span class=\"ansi-blue-fg\">=</span> provider<span class=\"ansi-blue-fg\">.</span>ProfileConfigProvider<span class=\"ansi-blue-fg\">(</span>profile<span class=\"ansi-blue-fg\">)</span><span class=\"ansi-blue-fg\">.</span>get_config<span class=\"ansi-blue-fg\">(</span><span class=\"ansi-blue-fg\">)</span>\n",
       "<span class=\"ansi-green-intense-fg ansi-bold\">    311</span>     <span class=\"ansi-green-fg\">else</span><span class=\"ansi-blue-fg\">:</span>\n",
       "<span class=\"ansi-green-fg\">--&gt; 312</span><span class=\"ansi-red-fg\">         </span>config <span class=\"ansi-blue-fg\">=</span> provider<span class=\"ansi-blue-fg\">.</span>get_config<span class=\"ansi-blue-fg\">(</span><span class=\"ansi-blue-fg\">)</span>\n",
       "<span class=\"ansi-green-intense-fg ansi-bold\">    313</span>     <span class=\"ansi-red-fg\"># if a path is specified, that implies a Databricks tracking URI of the form:</span>\n",
       "<span class=\"ansi-green-intense-fg ansi-bold\">    314</span>     <span class=\"ansi-red-fg\"># databricks://profile-name/path-specifier</span>\n",
       "\n",
       "<span class=\"ansi-green-fg\">/databricks/python/lib/python3.8/site-packages/databricks_cli/configure/provider.py</span> in <span class=\"ansi-cyan-fg\">get_config</span><span class=\"ansi-blue-fg\">()</span>\n",
       "<span class=\"ansi-green-intense-fg ansi-bold\">    120</span>     <span class=\"ansi-green-fg\">if</span> config<span class=\"ansi-blue-fg\">:</span>\n",
       "<span class=\"ansi-green-intense-fg ansi-bold\">    121</span>         <span class=\"ansi-green-fg\">return</span> config\n",
       "<span class=\"ansi-green-fg\">--&gt; 122</span><span class=\"ansi-red-fg\">     </span><span class=\"ansi-green-fg\">raise</span> InvalidConfigurationError<span class=\"ansi-blue-fg\">.</span>for_profile<span class=\"ansi-blue-fg\">(</span><span class=\"ansi-green-fg\">None</span><span class=\"ansi-blue-fg\">)</span>\n",
       "<span class=\"ansi-green-intense-fg ansi-bold\">    123</span> \n",
       "<span class=\"ansi-green-intense-fg ansi-bold\">    124</span> \n",
       "\n",
       "<span class=\"ansi-red-fg\">InvalidConfigurationError</span>: You haven&#39;t configured the CLI yet! Please configure by entering `/databricks/python_shell/scripts/PythonShell.py configure`</div>"
      ]
     },
     "metadata": {
      "application/vnd.databricks.v1+output": {
       "arguments": {},
       "data": "<div class=\"ansiout\"><span class=\"ansi-red-fg\">---------------------------------------------------------------------------</span>\n<span class=\"ansi-red-fg\">InvalidConfigurationError</span>                 Traceback (most recent call last)\n<span class=\"ansi-green-fg\">&lt;command-440421022018919&gt;</span> in <span class=\"ansi-cyan-fg\">&lt;module&gt;</span>\n<span class=\"ansi-green-fg\">----&gt; 1</span><span class=\"ansi-red-fg\"> </span>run_id <span class=\"ansi-blue-fg\">=</span> mlflow<span class=\"ansi-blue-fg\">.</span>search_runs<span class=\"ansi-blue-fg\">(</span>filter_string<span class=\"ansi-blue-fg\">=</span><span class=\"ansi-blue-fg\">&#39;tags.mlflow.runName = &#34;lastfm-als&#34;&#39;</span><span class=\"ansi-blue-fg\">)</span><span class=\"ansi-blue-fg\">.</span>iloc<span class=\"ansi-blue-fg\">[</span><span class=\"ansi-cyan-fg\">0</span><span class=\"ansi-blue-fg\">]</span><span class=\"ansi-blue-fg\">.</span>run_id\n<span class=\"ansi-green-intense-fg ansi-bold\">      2</span> \n<span class=\"ansi-green-intense-fg ansi-bold\">      3</span> model_name <span class=\"ansi-blue-fg\">=</span> <span class=\"ansi-blue-fg\">&#34;lastfm-als-model&#34;</span>\n<span class=\"ansi-green-intense-fg ansi-bold\">      4</span> \n<span class=\"ansi-green-intense-fg ansi-bold\">      5</span> model_version <span class=\"ansi-blue-fg\">=</span> mlflow<span class=\"ansi-blue-fg\">.</span>register_model<span class=\"ansi-blue-fg\">(</span><span class=\"ansi-blue-fg\">f&#34;runs:/{run_id}/lastfm-als&#34;</span><span class=\"ansi-blue-fg\">,</span> model_name<span class=\"ansi-blue-fg\">)</span>\n\n<span class=\"ansi-green-fg\">/databricks/python/lib/python3.8/site-packages/mlflow/tracking/fluent.py</span> in <span class=\"ansi-cyan-fg\">search_runs</span><span class=\"ansi-blue-fg\">(experiment_ids, filter_string, run_view_type, max_results, order_by, output_format)</span>\n<span class=\"ansi-green-intense-fg ansi-bold\">   1061</span>         )\n<span class=\"ansi-green-intense-fg ansi-bold\">   1062</span> \n<span class=\"ansi-green-fg\">-&gt; 1063</span><span class=\"ansi-red-fg\">     </span>runs <span class=\"ansi-blue-fg\">=</span> _paginate<span class=\"ansi-blue-fg\">(</span>pagination_wrapper_func<span class=\"ansi-blue-fg\">,</span> NUM_RUNS_PER_PAGE_PANDAS<span class=\"ansi-blue-fg\">,</span> max_results<span class=\"ansi-blue-fg\">)</span>\n<span class=\"ansi-green-intense-fg ansi-bold\">   1064</span> \n<span class=\"ansi-green-intense-fg ansi-bold\">   1065</span>     <span class=\"ansi-green-fg\">if</span> output_format <span class=\"ansi-blue-fg\">==</span> <span class=\"ansi-blue-fg\">&#34;list&#34;</span><span class=\"ansi-blue-fg\">:</span>\n\n<span class=\"ansi-green-fg\">/databricks/python/lib/python3.8/site-packages/mlflow/tracking/fluent.py</span> in <span class=\"ansi-cyan-fg\">_paginate</span><span class=\"ansi-blue-fg\">(paginated_fn, max_results_per_page, max_results)</span>\n<span class=\"ansi-green-intense-fg ansi-bold\">   1232</span>             page_results <span class=\"ansi-blue-fg\">=</span> paginated_fn<span class=\"ansi-blue-fg\">(</span>num_to_get<span class=\"ansi-blue-fg\">,</span> next_page_token<span class=\"ansi-blue-fg\">)</span>\n<span class=\"ansi-green-intense-fg ansi-bold\">   1233</span>         <span class=\"ansi-green-fg\">else</span><span class=\"ansi-blue-fg\">:</span>\n<span class=\"ansi-green-fg\">-&gt; 1234</span><span class=\"ansi-red-fg\">             </span>page_results <span class=\"ansi-blue-fg\">=</span> paginated_fn<span class=\"ansi-blue-fg\">(</span>max_results_per_page<span class=\"ansi-blue-fg\">,</span> next_page_token<span class=\"ansi-blue-fg\">)</span>\n<span class=\"ansi-green-intense-fg ansi-bold\">   1235</span>         all_results<span class=\"ansi-blue-fg\">.</span>extend<span class=\"ansi-blue-fg\">(</span>page_results<span class=\"ansi-blue-fg\">)</span>\n<span class=\"ansi-green-intense-fg ansi-bold\">   1236</span>         <span class=\"ansi-green-fg\">if</span> hasattr<span class=\"ansi-blue-fg\">(</span>page_results<span class=\"ansi-blue-fg\">,</span> <span class=\"ansi-blue-fg\">&#34;token&#34;</span><span class=\"ansi-blue-fg\">)</span> <span class=\"ansi-green-fg\">and</span> page_results<span class=\"ansi-blue-fg\">.</span>token<span class=\"ansi-blue-fg\">:</span>\n\n<span class=\"ansi-green-fg\">/databricks/python/lib/python3.8/site-packages/mlflow/tracking/fluent.py</span> in <span class=\"ansi-cyan-fg\">pagination_wrapper_func</span><span class=\"ansi-blue-fg\">(number_to_get, next_page_token)</span>\n<span class=\"ansi-green-intense-fg ansi-bold\">   1057</span>     <span class=\"ansi-red-fg\"># full thing is a mess</span>\n<span class=\"ansi-green-intense-fg ansi-bold\">   1058</span>     <span class=\"ansi-green-fg\">def</span> pagination_wrapper_func<span class=\"ansi-blue-fg\">(</span>number_to_get<span class=\"ansi-blue-fg\">,</span> next_page_token<span class=\"ansi-blue-fg\">)</span><span class=\"ansi-blue-fg\">:</span>\n<span class=\"ansi-green-fg\">-&gt; 1059</span><span class=\"ansi-red-fg\">         return MlflowClient().search_runs(\n</span><span class=\"ansi-green-intense-fg ansi-bold\">   1060</span>             experiment_ids<span class=\"ansi-blue-fg\">,</span> filter_string<span class=\"ansi-blue-fg\">,</span> run_view_type<span class=\"ansi-blue-fg\">,</span> number_to_get<span class=\"ansi-blue-fg\">,</span> order_by<span class=\"ansi-blue-fg\">,</span> next_page_token<span class=\"ansi-blue-fg\">,</span>\n<span class=\"ansi-green-intense-fg ansi-bold\">   1061</span>         )\n\n<span class=\"ansi-green-fg\">/databricks/python/lib/python3.8/site-packages/mlflow/tracking/client.py</span> in <span class=\"ansi-cyan-fg\">search_runs</span><span class=\"ansi-blue-fg\">(self, experiment_ids, filter_string, run_view_type, max_results, order_by, page_token)</span>\n<span class=\"ansi-green-intense-fg ansi-bold\">   1588</span>             tags<span class=\"ansi-blue-fg\">:</span> <span class=\"ansi-blue-fg\">{</span><span class=\"ansi-blue-fg\">&#39;s.release&#39;</span><span class=\"ansi-blue-fg\">:</span> <span class=\"ansi-blue-fg\">&#39;1.1.0-RC&#39;</span><span class=\"ansi-blue-fg\">}</span>\n<span class=\"ansi-green-intense-fg ansi-bold\">   1589</span>         &#34;&#34;&#34;\n<span class=\"ansi-green-fg\">-&gt; 1590</span><span class=\"ansi-red-fg\">         return self._tracking_client.search_runs(\n</span><span class=\"ansi-green-intense-fg ansi-bold\">   1591</span>             experiment_ids<span class=\"ansi-blue-fg\">,</span> filter_string<span class=\"ansi-blue-fg\">,</span> run_view_type<span class=\"ansi-blue-fg\">,</span> max_results<span class=\"ansi-blue-fg\">,</span> order_by<span class=\"ansi-blue-fg\">,</span> page_token\n<span class=\"ansi-green-intense-fg ansi-bold\">   1592</span>         )\n\n<span class=\"ansi-green-fg\">/databricks/python/lib/python3.8/site-packages/mlflow/tracking/_tracking_service/client.py</span> in <span class=\"ansi-cyan-fg\">search_runs</span><span class=\"ansi-blue-fg\">(self, experiment_ids, filter_string, run_view_type, max_results, order_by, page_token)</span>\n<span class=\"ansi-green-intense-fg ansi-bold\">    407</span>         <span class=\"ansi-green-fg\">if</span> isinstance<span class=\"ansi-blue-fg\">(</span>experiment_ids<span class=\"ansi-blue-fg\">,</span> int<span class=\"ansi-blue-fg\">)</span> <span class=\"ansi-green-fg\">or</span> is_string_type<span class=\"ansi-blue-fg\">(</span>experiment_ids<span class=\"ansi-blue-fg\">)</span><span class=\"ansi-blue-fg\">:</span>\n<span class=\"ansi-green-intense-fg ansi-bold\">    408</span>             experiment_ids <span class=\"ansi-blue-fg\">=</span> <span class=\"ansi-blue-fg\">[</span>experiment_ids<span class=\"ansi-blue-fg\">]</span>\n<span class=\"ansi-green-fg\">--&gt; 409</span><span class=\"ansi-red-fg\">         return self.store.search_runs(\n</span><span class=\"ansi-green-intense-fg ansi-bold\">    410</span>             experiment_ids<span class=\"ansi-blue-fg\">=</span>experiment_ids<span class=\"ansi-blue-fg\">,</span>\n<span class=\"ansi-green-intense-fg ansi-bold\">    411</span>             filter_string<span class=\"ansi-blue-fg\">=</span>filter_string<span class=\"ansi-blue-fg\">,</span>\n\n<span class=\"ansi-green-fg\">/databricks/python/lib/python3.8/site-packages/mlflow/store/tracking/abstract_store.py</span> in <span class=\"ansi-cyan-fg\">search_runs</span><span class=\"ansi-blue-fg\">(self, experiment_ids, filter_string, run_view_type, max_results, order_by, page_token)</span>\n<span class=\"ansi-green-intense-fg ansi-bold\">    240</span>             meaningful <span class=\"ansi-green-fg\">in</span> such cases<span class=\"ansi-blue-fg\">.</span>\n<span class=\"ansi-green-intense-fg ansi-bold\">    241</span>         &#34;&#34;&#34;\n<span class=\"ansi-green-fg\">--&gt; 242</span><span class=\"ansi-red-fg\">         runs, token = self._search_runs(\n</span><span class=\"ansi-green-intense-fg ansi-bold\">    243</span>             experiment_ids<span class=\"ansi-blue-fg\">,</span> filter_string<span class=\"ansi-blue-fg\">,</span> run_view_type<span class=\"ansi-blue-fg\">,</span> max_results<span class=\"ansi-blue-fg\">,</span> order_by<span class=\"ansi-blue-fg\">,</span> page_token\n<span class=\"ansi-green-intense-fg ansi-bold\">    244</span>         )\n\n<span class=\"ansi-green-fg\">/databricks/python/lib/python3.8/site-packages/mlflow/store/tracking/rest_store.py</span> in <span class=\"ansi-cyan-fg\">_search_runs</span><span class=\"ansi-blue-fg\">(self, experiment_ids, filter_string, run_view_type, max_results, order_by, page_token)</span>\n<span class=\"ansi-green-intense-fg ansi-bold\">    257</span>         )\n<span class=\"ansi-green-intense-fg ansi-bold\">    258</span>         req_body <span class=\"ansi-blue-fg\">=</span> message_to_json<span class=\"ansi-blue-fg\">(</span>sr<span class=\"ansi-blue-fg\">)</span>\n<span class=\"ansi-green-fg\">--&gt; 259</span><span class=\"ansi-red-fg\">         </span>response_proto <span class=\"ansi-blue-fg\">=</span> self<span class=\"ansi-blue-fg\">.</span>_call_endpoint<span class=\"ansi-blue-fg\">(</span>SearchRuns<span class=\"ansi-blue-fg\">,</span> req_body<span class=\"ansi-blue-fg\">)</span>\n<span class=\"ansi-green-intense-fg ansi-bold\">    260</span>         runs <span class=\"ansi-blue-fg\">=</span> <span class=\"ansi-blue-fg\">[</span>Run<span class=\"ansi-blue-fg\">.</span>from_proto<span class=\"ansi-blue-fg\">(</span>proto_run<span class=\"ansi-blue-fg\">)</span> <span class=\"ansi-green-fg\">for</span> proto_run <span class=\"ansi-green-fg\">in</span> response_proto<span class=\"ansi-blue-fg\">.</span>runs<span class=\"ansi-blue-fg\">]</span>\n<span class=\"ansi-green-intense-fg ansi-bold\">    261</span>         <span class=\"ansi-red-fg\"># If next_page_token is not set, we will see it as &#34;&#34;. We need to convert this to None.</span>\n\n<span class=\"ansi-green-fg\">/databricks/python/lib/python3.8/site-packages/mlflow/store/tracking/rest_store.py</span> in <span class=\"ansi-cyan-fg\">_call_endpoint</span><span class=\"ansi-blue-fg\">(self, api, json_body)</span>\n<span class=\"ansi-green-intense-fg ansi-bold\">     54</span>         endpoint<span class=\"ansi-blue-fg\">,</span> method <span class=\"ansi-blue-fg\">=</span> _METHOD_TO_INFO<span class=\"ansi-blue-fg\">[</span>api<span class=\"ansi-blue-fg\">]</span>\n<span class=\"ansi-green-intense-fg ansi-bold\">     55</span>         response_proto <span class=\"ansi-blue-fg\">=</span> api<span class=\"ansi-blue-fg\">.</span>Response<span class=\"ansi-blue-fg\">(</span><span class=\"ansi-blue-fg\">)</span>\n<span class=\"ansi-green-fg\">---&gt; 56</span><span class=\"ansi-red-fg\">         </span><span class=\"ansi-green-fg\">return</span> call_endpoint<span class=\"ansi-blue-fg\">(</span>self<span class=\"ansi-blue-fg\">.</span>get_host_creds<span class=\"ansi-blue-fg\">(</span><span class=\"ansi-blue-fg\">)</span><span class=\"ansi-blue-fg\">,</span> endpoint<span class=\"ansi-blue-fg\">,</span> method<span class=\"ansi-blue-fg\">,</span> json_body<span class=\"ansi-blue-fg\">,</span> response_proto<span class=\"ansi-blue-fg\">)</span>\n<span class=\"ansi-green-intense-fg ansi-bold\">     57</span> \n<span class=\"ansi-green-intense-fg ansi-bold\">     58</span>     def list_experiments(\n\n<span class=\"ansi-green-fg\">/databricks/python/lib/python3.8/site-packages/mlflow/tracking/_tracking_service/utils.py</span> in <span class=\"ansi-cyan-fg\">&lt;lambda&gt;</span><span class=\"ansi-blue-fg\">()</span>\n<span class=\"ansi-green-intense-fg ansi-bold\">    135</span> \n<span class=\"ansi-green-intense-fg ansi-bold\">    136</span> <span class=\"ansi-green-fg\">def</span> _get_databricks_rest_store<span class=\"ansi-blue-fg\">(</span>store_uri<span class=\"ansi-blue-fg\">,</span> <span class=\"ansi-blue-fg\">**</span>_<span class=\"ansi-blue-fg\">)</span><span class=\"ansi-blue-fg\">:</span>\n<span class=\"ansi-green-fg\">--&gt; 137</span><span class=\"ansi-red-fg\">     </span><span class=\"ansi-green-fg\">return</span> DatabricksRestStore<span class=\"ansi-blue-fg\">(</span><span class=\"ansi-green-fg\">lambda</span><span class=\"ansi-blue-fg\">:</span> get_databricks_host_creds<span class=\"ansi-blue-fg\">(</span>store_uri<span class=\"ansi-blue-fg\">)</span><span class=\"ansi-blue-fg\">)</span>\n<span class=\"ansi-green-intense-fg ansi-bold\">    138</span> \n<span class=\"ansi-green-intense-fg ansi-bold\">    139</span> \n\n<span class=\"ansi-green-fg\">/databricks/python/lib/python3.8/site-packages/mlflow/utils/databricks_utils.py</span> in <span class=\"ansi-cyan-fg\">get_databricks_host_creds</span><span class=\"ansi-blue-fg\">(server_uri)</span>\n<span class=\"ansi-green-intense-fg ansi-bold\">    310</span>         config <span class=\"ansi-blue-fg\">=</span> provider<span class=\"ansi-blue-fg\">.</span>ProfileConfigProvider<span class=\"ansi-blue-fg\">(</span>profile<span class=\"ansi-blue-fg\">)</span><span class=\"ansi-blue-fg\">.</span>get_config<span class=\"ansi-blue-fg\">(</span><span class=\"ansi-blue-fg\">)</span>\n<span class=\"ansi-green-intense-fg ansi-bold\">    311</span>     <span class=\"ansi-green-fg\">else</span><span class=\"ansi-blue-fg\">:</span>\n<span class=\"ansi-green-fg\">--&gt; 312</span><span class=\"ansi-red-fg\">         </span>config <span class=\"ansi-blue-fg\">=</span> provider<span class=\"ansi-blue-fg\">.</span>get_config<span class=\"ansi-blue-fg\">(</span><span class=\"ansi-blue-fg\">)</span>\n<span class=\"ansi-green-intense-fg ansi-bold\">    313</span>     <span class=\"ansi-red-fg\"># if a path is specified, that implies a Databricks tracking URI of the form:</span>\n<span class=\"ansi-green-intense-fg ansi-bold\">    314</span>     <span class=\"ansi-red-fg\"># databricks://profile-name/path-specifier</span>\n\n<span class=\"ansi-green-fg\">/databricks/python/lib/python3.8/site-packages/databricks_cli/configure/provider.py</span> in <span class=\"ansi-cyan-fg\">get_config</span><span class=\"ansi-blue-fg\">()</span>\n<span class=\"ansi-green-intense-fg ansi-bold\">    120</span>     <span class=\"ansi-green-fg\">if</span> config<span class=\"ansi-blue-fg\">:</span>\n<span class=\"ansi-green-intense-fg ansi-bold\">    121</span>         <span class=\"ansi-green-fg\">return</span> config\n<span class=\"ansi-green-fg\">--&gt; 122</span><span class=\"ansi-red-fg\">     </span><span class=\"ansi-green-fg\">raise</span> InvalidConfigurationError<span class=\"ansi-blue-fg\">.</span>for_profile<span class=\"ansi-blue-fg\">(</span><span class=\"ansi-green-fg\">None</span><span class=\"ansi-blue-fg\">)</span>\n<span class=\"ansi-green-intense-fg ansi-bold\">    123</span> \n<span class=\"ansi-green-intense-fg ansi-bold\">    124</span> \n\n<span class=\"ansi-red-fg\">InvalidConfigurationError</span>: You haven&#39;t configured the CLI yet! Please configure by entering `/databricks/python_shell/scripts/PythonShell.py configure`</div>",
       "errorSummary": "<span class=\"ansi-red-fg\">InvalidConfigurationError</span>: You haven&#39;t configured the CLI yet! Please configure by entering `/databricks/python_shell/scripts/PythonShell.py configure`",
       "errorTraceType": "html",
       "metadata": {},
       "type": "ipynbError"
      }
     },
     "output_type": "display_data"
    }
   ],
   "source": [
    "run_id = mlflow.search_runs(filter_string='tags.mlflow.runName = \"lastfm-als\"').iloc[0].run_id\n",
    "\n",
    "model_name = \"lastfm-als-model\"\n",
    "\n",
    "model_version = mlflow.register_model(f\"runs:/{run_id}/lastfm-als\", model_name)"
   ]
  },
  {
   "cell_type": "code",
   "execution_count": 0,
   "metadata": {
    "application/vnd.databricks.v1+cell": {
     "inputWidgets": {},
     "nuid": "0acf6ff4-337d-41e2-8767-9fce5f5da52b",
     "showTitle": false,
     "title": ""
    }
   },
   "outputs": [
    {
     "data": {
      "text/html": [
       "<style scoped>\n",
       "  .ansiout {\n",
       "    display: block;\n",
       "    unicode-bidi: embed;\n",
       "    white-space: pre-wrap;\n",
       "    word-wrap: break-word;\n",
       "    word-break: break-all;\n",
       "    font-family: \"Source Code Pro\", \"Menlo\", monospace;;\n",
       "    font-size: 13px;\n",
       "    color: #555;\n",
       "    margin-left: 4px;\n",
       "    line-height: 19px;\n",
       "  }\n",
       "</style>\n",
       "<div class=\"ansiout\"></div>"
      ]
     },
     "metadata": {
      "application/vnd.databricks.v1+output": {
       "addedWidgets": {},
       "arguments": {},
       "data": "<div class=\"ansiout\"></div>",
       "datasetInfos": [],
       "metadata": {},
       "removedWidgets": [],
       "type": "html"
      }
     },
     "output_type": "display_data"
    }
   ],
   "source": [
    "# # Generate top 10 movie recommendations for each user\n",
    "# userRecs = model.recommendForAllUsers(10)\n",
    "# # Generate top 10 user recommendations for each movie\n",
    "# movieRecs = model.recommendForAllItems(10)"
   ]
  },
  {
   "cell_type": "code",
   "execution_count": 0,
   "metadata": {
    "application/vnd.databricks.v1+cell": {
     "inputWidgets": {},
     "nuid": "27e0b95a-4814-40cc-9aa5-64ea76d07bf6",
     "showTitle": false,
     "title": ""
    }
   },
   "outputs": [
    {
     "data": {
      "text/html": [
       "<style scoped>\n",
       "  .ansiout {\n",
       "    display: block;\n",
       "    unicode-bidi: embed;\n",
       "    white-space: pre-wrap;\n",
       "    word-wrap: break-word;\n",
       "    word-break: break-all;\n",
       "    font-family: \"Source Code Pro\", \"Menlo\", monospace;;\n",
       "    font-size: 13px;\n",
       "    color: #555;\n",
       "    margin-left: 4px;\n",
       "    line-height: 19px;\n",
       "  }\n",
       "</style>\n",
       "<div class=\"ansiout\"></div>"
      ]
     },
     "metadata": {
      "application/vnd.databricks.v1+output": {
       "addedWidgets": {},
       "arguments": {},
       "data": "<div class=\"ansiout\"></div>",
       "datasetInfos": [],
       "metadata": {},
       "removedWidgets": [],
       "type": "html"
      }
     },
     "output_type": "display_data"
    },
    {
     "data": {
      "text/html": [
       "<style scoped>\n",
       "  .ansiout {\n",
       "    display: block;\n",
       "    unicode-bidi: embed;\n",
       "    white-space: pre-wrap;\n",
       "    word-wrap: break-word;\n",
       "    word-break: break-all;\n",
       "    font-family: \"Source Code Pro\", \"Menlo\", monospace;;\n",
       "    font-size: 13px;\n",
       "    color: #555;\n",
       "    margin-left: 4px;\n",
       "    line-height: 19px;\n",
       "  }\n",
       "</style>\n",
       "<div class=\"ansiout\"><span class=\"ansi-red-fg\">---------------------------------------------------------------------------</span>\n",
       "<span class=\"ansi-red-fg\">NameError</span>                                 Traceback (most recent call last)\n",
       "<span class=\"ansi-green-fg\">&lt;command-4142293834736426&gt;</span> in <span class=\"ansi-cyan-fg\">&lt;module&gt;</span>\n",
       "<span class=\"ansi-green-fg\">----&gt; 1</span><span class=\"ansi-red-fg\"> </span>rmse <span class=\"ansi-blue-fg\">=</span> evaluator<span class=\"ansi-blue-fg\">.</span>evaluate<span class=\"ansi-blue-fg\">(</span>predictions<span class=\"ansi-blue-fg\">)</span>\n",
       "\n",
       "<span class=\"ansi-red-fg\">NameError</span>: name &#39;evaluator&#39; is not defined</div>"
      ]
     },
     "metadata": {
      "application/vnd.databricks.v1+output": {
       "arguments": {},
       "data": "<div class=\"ansiout\"><span class=\"ansi-red-fg\">---------------------------------------------------------------------------</span>\n<span class=\"ansi-red-fg\">NameError</span>                                 Traceback (most recent call last)\n<span class=\"ansi-green-fg\">&lt;command-4142293834736426&gt;</span> in <span class=\"ansi-cyan-fg\">&lt;module&gt;</span>\n<span class=\"ansi-green-fg\">----&gt; 1</span><span class=\"ansi-red-fg\"> </span>rmse <span class=\"ansi-blue-fg\">=</span> evaluator<span class=\"ansi-blue-fg\">.</span>evaluate<span class=\"ansi-blue-fg\">(</span>predictions<span class=\"ansi-blue-fg\">)</span>\n\n<span class=\"ansi-red-fg\">NameError</span>: name &#39;evaluator&#39; is not defined</div>",
       "errorSummary": "<span class=\"ansi-red-fg\">NameError</span>: name &#39;evaluator&#39; is not defined",
       "errorTraceType": "html",
       "metadata": {},
       "type": "ipynbError"
      }
     },
     "output_type": "display_data"
    }
   ],
   "source": [
    "rmse = evaluator.evaluate(predictions)"
   ]
  },
  {
   "cell_type": "code",
   "execution_count": 0,
   "metadata": {
    "application/vnd.databricks.v1+cell": {
     "inputWidgets": {},
     "nuid": "59d49c73-844e-4359-8b88-89418e581db0",
     "showTitle": false,
     "title": ""
    }
   },
   "outputs": [
    {
     "data": {
      "text/html": [
       "<style scoped>\n",
       "  .ansiout {\n",
       "    display: block;\n",
       "    unicode-bidi: embed;\n",
       "    white-space: pre-wrap;\n",
       "    word-wrap: break-word;\n",
       "    word-break: break-all;\n",
       "    font-family: \"Source Code Pro\", \"Menlo\", monospace;;\n",
       "    font-size: 13px;\n",
       "    color: #555;\n",
       "    margin-left: 4px;\n",
       "    line-height: 19px;\n",
       "  }\n",
       "</style>\n",
       "<div class=\"ansiout\"></div>"
      ]
     },
     "metadata": {
      "application/vnd.databricks.v1+output": {
       "addedWidgets": {},
       "arguments": {},
       "data": "<div class=\"ansiout\"></div>",
       "datasetInfos": [],
       "metadata": {},
       "removedWidgets": [],
       "type": "html"
      }
     },
     "output_type": "display_data"
    },
    {
     "data": {
      "text/html": [
       "<style scoped>\n",
       "  .ansiout {\n",
       "    display: block;\n",
       "    unicode-bidi: embed;\n",
       "    white-space: pre-wrap;\n",
       "    word-wrap: break-word;\n",
       "    word-break: break-all;\n",
       "    font-family: \"Source Code Pro\", \"Menlo\", monospace;;\n",
       "    font-size: 13px;\n",
       "    color: #555;\n",
       "    margin-left: 4px;\n",
       "    line-height: 19px;\n",
       "  }\n",
       "</style>\n",
       "<div class=\"ansiout\"><span class=\"ansi-red-fg\">---------------------------------------------------------------------------</span>\n",
       "<span class=\"ansi-red-fg\">NameError</span>                                 Traceback (most recent call last)\n",
       "<span class=\"ansi-green-fg\">&lt;command-4142293834736431&gt;</span> in <span class=\"ansi-cyan-fg\">&lt;module&gt;</span>\n",
       "<span class=\"ansi-green-fg\">----&gt; 1</span><span class=\"ansi-red-fg\"> </span>rmse\n",
       "\n",
       "<span class=\"ansi-red-fg\">NameError</span>: name &#39;rmse&#39; is not defined</div>"
      ]
     },
     "metadata": {
      "application/vnd.databricks.v1+output": {
       "arguments": {},
       "data": "<div class=\"ansiout\"><span class=\"ansi-red-fg\">---------------------------------------------------------------------------</span>\n<span class=\"ansi-red-fg\">NameError</span>                                 Traceback (most recent call last)\n<span class=\"ansi-green-fg\">&lt;command-4142293834736431&gt;</span> in <span class=\"ansi-cyan-fg\">&lt;module&gt;</span>\n<span class=\"ansi-green-fg\">----&gt; 1</span><span class=\"ansi-red-fg\"> </span>rmse\n\n<span class=\"ansi-red-fg\">NameError</span>: name &#39;rmse&#39; is not defined</div>",
       "errorSummary": "<span class=\"ansi-red-fg\">NameError</span>: name &#39;rmse&#39; is not defined",
       "errorTraceType": "html",
       "metadata": {},
       "type": "ipynbError"
      }
     },
     "output_type": "display_data"
    }
   ],
   "source": [
    "rmse"
   ]
  },
  {
   "cell_type": "code",
   "execution_count": 0,
   "metadata": {
    "application/vnd.databricks.v1+cell": {
     "inputWidgets": {},
     "nuid": "b2e37e26-22d0-4bab-96fc-3aaad47a4a54",
     "showTitle": false,
     "title": ""
    }
   },
   "outputs": [
    {
     "data": {
      "text/html": [
       "<style scoped>\n",
       "  .ansiout {\n",
       "    display: block;\n",
       "    unicode-bidi: embed;\n",
       "    white-space: pre-wrap;\n",
       "    word-wrap: break-word;\n",
       "    word-break: break-all;\n",
       "    font-family: \"Source Code Pro\", \"Menlo\", monospace;;\n",
       "    font-size: 13px;\n",
       "    color: #555;\n",
       "    margin-left: 4px;\n",
       "    line-height: 19px;\n",
       "  }\n",
       "</style>\n",
       "<div class=\"ansiout\"></div>"
      ]
     },
     "metadata": {
      "application/vnd.databricks.v1+output": {
       "addedWidgets": {},
       "arguments": {},
       "data": "<div class=\"ansiout\"></div>",
       "datasetInfos": [],
       "metadata": {},
       "removedWidgets": [],
       "type": "html"
      }
     },
     "output_type": "display_data"
    },
    {
     "data": {
      "text/html": [
       "<style scoped>\n",
       "  .ansiout {\n",
       "    display: block;\n",
       "    unicode-bidi: embed;\n",
       "    white-space: pre-wrap;\n",
       "    word-wrap: break-word;\n",
       "    word-break: break-all;\n",
       "    font-family: \"Source Code Pro\", \"Menlo\", monospace;;\n",
       "    font-size: 13px;\n",
       "    color: #555;\n",
       "    margin-left: 4px;\n",
       "    line-height: 19px;\n",
       "  }\n",
       "</style>\n",
       "<div class=\"ansiout\"><span class=\"ansi-red-fg\">---------------------------------------------------------------------------</span>\n",
       "<span class=\"ansi-red-fg\">NameError</span>                                 Traceback (most recent call last)\n",
       "<span class=\"ansi-green-fg\">&lt;command-4142293834736427&gt;</span> in <span class=\"ansi-cyan-fg\">&lt;module&gt;</span>\n",
       "<span class=\"ansi-green-fg\">----&gt; 1</span><span class=\"ansi-red-fg\"> </span>model<span class=\"ansi-blue-fg\">.</span>save<span class=\"ansi-blue-fg\">(</span>sc<span class=\"ansi-blue-fg\">,</span> <span class=\"ansi-blue-fg\">&#34;./model/als-mlflow&#34;</span><span class=\"ansi-blue-fg\">)</span>\n",
       "\n",
       "<span class=\"ansi-red-fg\">NameError</span>: name &#39;model&#39; is not defined</div>"
      ]
     },
     "metadata": {
      "application/vnd.databricks.v1+output": {
       "arguments": {},
       "data": "<div class=\"ansiout\"><span class=\"ansi-red-fg\">---------------------------------------------------------------------------</span>\n<span class=\"ansi-red-fg\">NameError</span>                                 Traceback (most recent call last)\n<span class=\"ansi-green-fg\">&lt;command-4142293834736427&gt;</span> in <span class=\"ansi-cyan-fg\">&lt;module&gt;</span>\n<span class=\"ansi-green-fg\">----&gt; 1</span><span class=\"ansi-red-fg\"> </span>model<span class=\"ansi-blue-fg\">.</span>save<span class=\"ansi-blue-fg\">(</span>sc<span class=\"ansi-blue-fg\">,</span> <span class=\"ansi-blue-fg\">&#34;./model/als-mlflow&#34;</span><span class=\"ansi-blue-fg\">)</span>\n\n<span class=\"ansi-red-fg\">NameError</span>: name &#39;model&#39; is not defined</div>",
       "errorSummary": "<span class=\"ansi-red-fg\">NameError</span>: name &#39;model&#39; is not defined",
       "errorTraceType": "html",
       "metadata": {},
       "type": "ipynbError"
      }
     },
     "output_type": "display_data"
    }
   ],
   "source": [
    "model.save(sc, \"./model/als-mlflow\")"
   ]
  }
 ],
 "metadata": {
  "application/vnd.databricks.v1+notebook": {
   "dashboards": [],
   "language": "python",
   "notebookMetadata": {
    "pythonIndentUnit": 2
   },
   "notebookName": "lastfm-als-0.2.1d-mlflow",
   "notebookOrigID": 4142293834736408,
   "widgets": {}
  },
  "kernelspec": {
   "display_name": "Python 3",
   "language": "python",
   "name": "python3"
  },
  "language_info": {
   "codemirror_mode": {
    "name": "ipython",
    "version": 3
   },
   "file_extension": ".py",
   "mimetype": "text/x-python",
   "name": "python",
   "nbconvert_exporter": "python",
   "pygments_lexer": "ipython3",
   "version": "3.8.5"
  }
 },
 "nbformat": 4,
 "nbformat_minor": 1
}

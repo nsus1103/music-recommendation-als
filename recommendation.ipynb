{
 "cells": [
  {
   "cell_type": "markdown",
   "metadata": {},
   "source": [
    "### MLflow is use for ML model tracking and Hyperparameter logging"
   ]
  },
  {
   "cell_type": "code",
   "execution_count": null,
   "metadata": {
    "application/vnd.databricks.v1+cell": {
     "inputWidgets": {},
     "nuid": "e6fb5b40-7e04-4ed3-b4ba-65e0eeb91afe",
     "showTitle": false,
     "title": ""
    }
   },
   "outputs": [],
   "source": [
    "# install mlflow\n",
    "# !pip install mlflow\n"
   ]
  },
  {
   "cell_type": "code",
   "execution_count": 0,
   "metadata": {
    "application/vnd.databricks.v1+cell": {
     "inputWidgets": {},
     "nuid": "0baec2d8-36dc-46a5-b275-1518f088bbca",
     "showTitle": false,
     "title": ""
    }
   },
   "outputs": [
    {
     "data": {
      "text/html": [
       "<style scoped>\n",
       "  .ansiout {\n",
       "    display: block;\n",
       "    unicode-bidi: embed;\n",
       "    white-space: pre-wrap;\n",
       "    word-wrap: break-word;\n",
       "    word-break: break-all;\n",
       "    font-family: \"Source Code Pro\", \"Menlo\", monospace;;\n",
       "    font-size: 13px;\n",
       "    color: #555;\n",
       "    margin-left: 4px;\n",
       "    line-height: 19px;\n",
       "  }\n",
       "</style>\n",
       "<div class=\"ansiout\"></div>"
      ]
     },
     "metadata": {
      "application/vnd.databricks.v1+output": {
       "addedWidgets": {},
       "arguments": {},
       "data": "<div class=\"ansiout\"></div>",
       "datasetInfos": [],
       "metadata": {},
       "removedWidgets": [],
       "type": "html"
      }
     },
     "output_type": "display_data"
    }
   ],
   "source": [
    "from pyspark.ml.evaluation import RegressionEvaluator\n",
    "from pyspark.ml.recommendation import ALS\n",
    "from pyspark.sql import Row\n",
    "from pyspark.sql.functions import when\n",
    "from pyspark.ml.feature import StringIndexer, IndexToString\n",
    "import mlflow\n",
    "import mlflow.spark\n",
    "from mlflow.tracking import MlflowClient\n",
    "from urllib.parse import urlparse"
   ]
  },
  {
   "cell_type": "markdown",
   "metadata": {},
   "source": [
    "### Loading the dataset from previously configured Hive tables"
   ]
  },
  {
   "cell_type": "code",
   "execution_count": null,
   "metadata": {
    "application/vnd.databricks.v1+cell": {
     "inputWidgets": {},
     "nuid": "405afcfc-4d65-4f5b-a584-f7c3a386dd0c",
     "showTitle": false,
     "title": ""
    }
   },
   "outputs": [],
   "source": [
    "# Creating dataframe from Hive table\n",
    "df = spark.sql(\"SELECT * FROM plays\")\n",
    "df.show(5)"
   ]
  },
  {
   "cell_type": "markdown",
   "metadata": {},
   "source": [
    "### Alternatively, the dataframe can be created from the raw tsv file"
   ]
  },
  {
   "cell_type": "code",
   "execution_count": null,
   "metadata": {
    "application/vnd.databricks.v1+cell": {
     "inputWidgets": {},
     "nuid": "77ef09c6-f270-4358-8b01-c7815623922c",
     "showTitle": false,
     "title": ""
    }
   },
   "outputs": [],
   "source": [
    "# Creating dataframe from tsv\n",
    "df = spark.read.csv('dbfs:/FileStore/tables/lastfm-data/usersha1-artmbid-artname-plays.tsv', sep='\\t')\n",
    "df.show(5)"
   ]
  },
  {
   "cell_type": "code",
   "execution_count": 0,
   "metadata": {
    "application/vnd.databricks.v1+cell": {
     "inputWidgets": {},
     "nuid": "c0ff3317-3456-4489-8620-bc308647a4fa",
     "showTitle": false,
     "title": ""
    }
   },
   "outputs": [
    {
     "data": {
      "text/html": [
       "<style scoped>\n",
       "  .ansiout {\n",
       "    display: block;\n",
       "    unicode-bidi: embed;\n",
       "    white-space: pre-wrap;\n",
       "    word-wrap: break-word;\n",
       "    word-break: break-all;\n",
       "    font-family: \"Source Code Pro\", \"Menlo\", monospace;;\n",
       "    font-size: 13px;\n",
       "    color: #555;\n",
       "    margin-left: 4px;\n",
       "    line-height: 19px;\n",
       "  }\n",
       "</style>\n",
       "<div class=\"ansiout\"></div>"
      ]
     },
     "metadata": {
      "application/vnd.databricks.v1+output": {
       "addedWidgets": {},
       "arguments": {},
       "data": "<div class=\"ansiout\"></div>",
       "datasetInfos": [],
       "metadata": {},
       "removedWidgets": [],
       "type": "html"
      }
     },
     "output_type": "display_data"
    }
   ],
   "source": [
    "df = df.dropna()"
   ]
  },
  {
   "cell_type": "markdown",
   "metadata": {},
   "source": [
    "#### Renaming the columns if datagrame created from raw files"
   ]
  },
  {
   "cell_type": "code",
   "execution_count": null,
   "metadata": {
    "application/vnd.databricks.v1+cell": {
     "inputWidgets": {},
     "nuid": "af42566d-5a11-4b52-aa69-80dcef083daa",
     "showTitle": false,
     "title": ""
    }
   },
   "outputs": [],
   "source": [
    "newNames = ['userid', 'artistid', 'artistname', 'plays']\n",
    "df = df.toDF(*newNames)\n",
    "df.show(5)"
   ]
  },
  {
   "cell_type": "markdown",
   "metadata": {},
   "source": [
    "### Use StringIndexer to encode the userid and artistid columns\n",
    "\n",
    "The map of String to INdexes is stored and original strings can be retrieved using IndexToString "
   ]
  },
  {
   "cell_type": "code",
   "execution_count": 0,
   "metadata": {
    "application/vnd.databricks.v1+cell": {
     "inputWidgets": {},
     "nuid": "60201bbb-0245-4cc8-9334-f4b6ee82deb5",
     "showTitle": false,
     "title": ""
    }
   },
   "outputs": [
    {
     "data": {
      "text/html": [
       "<style scoped>\n",
       "  .ansiout {\n",
       "    display: block;\n",
       "    unicode-bidi: embed;\n",
       "    white-space: pre-wrap;\n",
       "    word-wrap: break-word;\n",
       "    word-break: break-all;\n",
       "    font-family: \"Source Code Pro\", \"Menlo\", monospace;;\n",
       "    font-size: 13px;\n",
       "    color: #555;\n",
       "    margin-left: 4px;\n",
       "    line-height: 19px;\n",
       "  }\n",
       "</style>\n",
       "<div class=\"ansiout\"></div>"
      ]
     },
     "metadata": {
      "application/vnd.databricks.v1+output": {
       "addedWidgets": {},
       "arguments": {},
       "data": "<div class=\"ansiout\"></div>",
       "datasetInfos": [],
       "metadata": {},
       "removedWidgets": [],
       "type": "html"
      }
     },
     "output_type": "display_data"
    }
   ],
   "source": [
    "# label encode users and artists\n",
    "userIndexer = StringIndexer(inputCol=\"userid\", outputCol=\"userIndex\")\n",
    "artistIndexer = StringIndexer(inputCol=\"artistid\", outputCol=\"artistIndex\")\n",
    "\n",
    "userDecoder = IndexToString(inputCol=\"userIndex\", outputCol=\"useridOrignial\")\n",
    "artistDecoder = IndexToString(inputCol=\"artistIndex\", outputCol=\"artistidOriginal\")\n",
    "\n",
    "df = userIndexer.setHandleInvalid(\"keep\").fit(df).transform(df) # sethandleInvalid(\"keep\") because randomSplit was throwing error about string Indexer. Null values?\n",
    "df = artistIndexer.setHandleInvalid(\"keep\").fit(df).transform(df)"
   ]
  },
  {
   "cell_type": "code",
   "execution_count": 0,
   "metadata": {
    "application/vnd.databricks.v1+cell": {
     "inputWidgets": {},
     "nuid": "541ee10f-ffa1-4037-8850-ac094f4e5255",
     "showTitle": false,
     "title": ""
    }
   },
   "outputs": [
    {
     "data": {
      "text/html": [
       "<style scoped>\n",
       "  .table-result-container {\n",
       "    max-height: 300px;\n",
       "    overflow: auto;\n",
       "  }\n",
       "  table, th, td {\n",
       "    border: 1px solid black;\n",
       "    border-collapse: collapse;\n",
       "  }\n",
       "  th, td {\n",
       "    padding: 5px;\n",
       "  }\n",
       "  th {\n",
       "    text-align: left;\n",
       "  }\n",
       "</style><div class='table-result-container'><table class='table-result'><thead style='background-color: white'><tr><th>userid</th><th>artistid</th><th>artistname</th><th>plays</th><th>userIndex</th><th>artistIndex</th></tr></thead><tbody><tr><td>00000c289a1829a808ac09c00daf10bc3c4e223b</td><td>3bd73256-3905-4f3a-97e2-8b341527f805</td><td>betty blowtorch</td><td>2137</td><td>126839.0</td><td>17191.0</td></tr><tr><td>00000c289a1829a808ac09c00daf10bc3c4e223b</td><td>f2fb0ff0-5679-42ec-a55c-15109ce6e320</td><td>die Ärzte</td><td>1099</td><td>126839.0</td><td>277.0</td></tr><tr><td>00000c289a1829a808ac09c00daf10bc3c4e223b</td><td>b3ae82c2-e60b-4551-a76d-6620f1b456aa</td><td>melissa etheridge</td><td>897</td><td>126839.0</td><td>3120.0</td></tr><tr><td>00000c289a1829a808ac09c00daf10bc3c4e223b</td><td>3d6bbeb7-f90e-4d10-b440-e153c0d10b53</td><td>elvenking</td><td>717</td><td>126839.0</td><td>1981.0</td></tr><tr><td>00000c289a1829a808ac09c00daf10bc3c4e223b</td><td>bbd2ffd7-17f4-4506-8572-c1ea58c3f9a8</td><td>juliette & the licks</td><td>706</td><td>126839.0</td><td>2121.0</td></tr></tbody></table></div>"
      ]
     },
     "metadata": {
      "application/vnd.databricks.v1+output": {
       "addedWidgets": {},
       "aggData": [],
       "aggError": "",
       "aggOverflow": false,
       "aggSchema": [],
       "aggSeriesLimitReached": false,
       "aggType": "",
       "arguments": {},
       "columnCustomDisplayInfos": {},
       "data": [
        [
         "00000c289a1829a808ac09c00daf10bc3c4e223b",
         "3bd73256-3905-4f3a-97e2-8b341527f805",
         "betty blowtorch",
         "2137",
         126839,
         17191
        ],
        [
         "00000c289a1829a808ac09c00daf10bc3c4e223b",
         "f2fb0ff0-5679-42ec-a55c-15109ce6e320",
         "die Ärzte",
         "1099",
         126839,
         277
        ],
        [
         "00000c289a1829a808ac09c00daf10bc3c4e223b",
         "b3ae82c2-e60b-4551-a76d-6620f1b456aa",
         "melissa etheridge",
         "897",
         126839,
         3120
        ],
        [
         "00000c289a1829a808ac09c00daf10bc3c4e223b",
         "3d6bbeb7-f90e-4d10-b440-e153c0d10b53",
         "elvenking",
         "717",
         126839,
         1981
        ],
        [
         "00000c289a1829a808ac09c00daf10bc3c4e223b",
         "bbd2ffd7-17f4-4506-8572-c1ea58c3f9a8",
         "juliette & the licks",
         "706",
         126839,
         2121
        ]
       ],
       "datasetInfos": [],
       "dbfsResultPath": null,
       "isJsonSchema": true,
       "metadata": {},
       "overflow": false,
       "plotOptions": {
        "customPlotOptions": {},
        "displayType": "table",
        "pivotAggregation": null,
        "pivotColumns": null,
        "xColumns": null,
        "yColumns": null
       },
       "removedWidgets": [],
       "schema": [
        {
         "metadata": "{}",
         "name": "userid",
         "type": "\"string\""
        },
        {
         "metadata": "{}",
         "name": "artistid",
         "type": "\"string\""
        },
        {
         "metadata": "{}",
         "name": "artistname",
         "type": "\"string\""
        },
        {
         "metadata": "{}",
         "name": "plays",
         "type": "\"string\""
        },
        {
         "metadata": "{}",
         "name": "userIndex",
         "type": "\"double\""
        },
        {
         "metadata": "{}",
         "name": "artistIndex",
         "type": "\"double\""
        }
       ],
       "type": "table"
      }
     },
     "output_type": "display_data"
    }
   ],
   "source": [
    "display(df.take(5))"
   ]
  },
  {
   "cell_type": "markdown",
   "metadata": {},
   "source": [
    "### Applying the confidence threshold for implicit rating"
   ]
  },
  {
   "cell_type": "code",
   "execution_count": 0,
   "metadata": {
    "application/vnd.databricks.v1+cell": {
     "inputWidgets": {},
     "nuid": "9027abd9-a2a6-4dca-a5be-3b1e4481eac0",
     "showTitle": false,
     "title": ""
    }
   },
   "outputs": [
    {
     "data": {
      "text/html": [
       "<style scoped>\n",
       "  .ansiout {\n",
       "    display: block;\n",
       "    unicode-bidi: embed;\n",
       "    white-space: pre-wrap;\n",
       "    word-wrap: break-word;\n",
       "    word-break: break-all;\n",
       "    font-family: \"Source Code Pro\", \"Menlo\", monospace;;\n",
       "    font-size: 13px;\n",
       "    color: #555;\n",
       "    margin-left: 4px;\n",
       "    line-height: 19px;\n",
       "  }\n",
       "</style>\n",
       "<div class=\"ansiout\"></div>"
      ]
     },
     "metadata": {
      "application/vnd.databricks.v1+output": {
       "addedWidgets": {},
       "arguments": {},
       "data": "<div class=\"ansiout\"></div>",
       "datasetInfos": [],
       "metadata": {},
       "removedWidgets": [],
       "type": "html"
      }
     },
     "output_type": "display_data"
    }
   ],
   "source": [
    "df2 = df.withColumn(\"ratings\", when(df.plays>50, 1).otherwise(0))\n",
    "# df2.describe().show()"
   ]
  },
  {
   "cell_type": "markdown",
   "metadata": {},
   "source": [
    "### Creating a demo dataset for faster training\n",
    "\n",
    "For complete training the first two rows can be uncommented"
   ]
  },
  {
   "cell_type": "code",
   "execution_count": 0,
   "metadata": {
    "application/vnd.databricks.v1+cell": {
     "inputWidgets": {},
     "nuid": "63ff7cfe-9535-4634-8665-53ba28c34eea",
     "showTitle": false,
     "title": ""
    }
   },
   "outputs": [
    {
     "data": {
      "text/html": [
       "<style scoped>\n",
       "  .ansiout {\n",
       "    display: block;\n",
       "    unicode-bidi: embed;\n",
       "    white-space: pre-wrap;\n",
       "    word-wrap: break-word;\n",
       "    word-break: break-all;\n",
       "    font-family: \"Source Code Pro\", \"Menlo\", monospace;;\n",
       "    font-size: 13px;\n",
       "    color: #555;\n",
       "    margin-left: 4px;\n",
       "    line-height: 19px;\n",
       "  }\n",
       "</style>\n",
       "<div class=\"ansiout\">Out[9]: [(&#39;userIndex&#39;, &#39;int&#39;), (&#39;artistIndex&#39;, &#39;int&#39;), (&#39;ratings&#39;, &#39;float&#39;)]</div>"
      ]
     },
     "metadata": {
      "application/vnd.databricks.v1+output": {
       "addedWidgets": {},
       "arguments": {},
       "data": "<div class=\"ansiout\">Out[9]: [(&#39;userIndex&#39;, &#39;int&#39;), (&#39;artistIndex&#39;, &#39;int&#39;), (&#39;ratings&#39;, &#39;float&#39;)]</div>",
       "datasetInfos": [],
       "metadata": {},
       "removedWidgets": [],
       "type": "html"
      }
     },
     "output_type": "display_data"
    }
   ],
   "source": [
    "# data = df.select(\"userIndex\", \"artistIndex\", \"plays\")\n",
    "# data = df.selectExpr(\"INT(userIndex)\",\"INT(artistIndex)\",\"FLOAT(plays)\",\"FLOAT(ratings)\", \"userid\", \"artistId\")\n",
    "data_demo = df2.selectExpr(\"INT(userIndex)\",\"INT(artistIndex)\",\"FLOAT(ratings)\")\n",
    "\n",
    "data_demo.dtypes"
   ]
  },
  {
   "cell_type": "code",
   "execution_count": 0,
   "metadata": {
    "application/vnd.databricks.v1+cell": {
     "inputWidgets": {},
     "nuid": "894c538f-cd63-46a3-9fef-161b7c5b045f",
     "showTitle": false,
     "title": ""
    }
   },
   "outputs": [
    {
     "data": {
      "text/html": [
       "<style scoped>\n",
       "  .ansiout {\n",
       "    display: block;\n",
       "    unicode-bidi: embed;\n",
       "    white-space: pre-wrap;\n",
       "    word-wrap: break-word;\n",
       "    word-break: break-all;\n",
       "    font-family: \"Source Code Pro\", \"Menlo\", monospace;;\n",
       "    font-size: 13px;\n",
       "    color: #555;\n",
       "    margin-left: 4px;\n",
       "    line-height: 19px;\n",
       "  }\n",
       "</style>\n",
       "<div class=\"ansiout\"></div>"
      ]
     },
     "metadata": {
      "application/vnd.databricks.v1+output": {
       "addedWidgets": {},
       "arguments": {},
       "data": "<div class=\"ansiout\"></div>",
       "datasetInfos": [],
       "metadata": {},
       "removedWidgets": [],
       "type": "html"
      }
     },
     "output_type": "display_data"
    }
   ],
   "source": [
    "(demo, rest) = data_demo.randomSplit([0.1, 0.9])"
   ]
  },
  {
   "cell_type": "markdown",
   "metadata": {},
   "source": [
    "### Setting up MLflow tracking server"
   ]
  },
  {
   "cell_type": "code",
   "execution_count": 0,
   "metadata": {
    "application/vnd.databricks.v1+cell": {
     "inputWidgets": {},
     "nuid": "d1475b02-88e6-47f4-8cc0-1abea7ee07f5",
     "showTitle": false,
     "title": ""
    }
   },
   "outputs": [
    {
     "data": {
      "text/html": [
       "<style scoped>\n",
       "  .ansiout {\n",
       "    display: block;\n",
       "    unicode-bidi: embed;\n",
       "    white-space: pre-wrap;\n",
       "    word-wrap: break-word;\n",
       "    word-break: break-all;\n",
       "    font-family: \"Source Code Pro\", \"Menlo\", monospace;;\n",
       "    font-size: 13px;\n",
       "    color: #555;\n",
       "    margin-left: 4px;\n",
       "    line-height: 19px;\n",
       "  }\n",
       "</style>\n",
       "<div class=\"ansiout\"></div>"
      ]
     },
     "metadata": {
      "application/vnd.databricks.v1+output": {
       "addedWidgets": {},
       "arguments": {},
       "data": "<div class=\"ansiout\"></div>",
       "datasetInfos": [],
       "metadata": {},
       "removedWidgets": [],
       "type": "html"
      }
     },
     "output_type": "display_data"
    }
   ],
   "source": [
    "# Set the MLFLOW_TRACKING_URI environment variable to have MLflow find a URI from there. The URI can either be a HTTP/HTTPS URI for a remote server, a database connection string, or a local path to log data to a directory. \n",
    "mlflow.set_tracking_uri('databricks') "
   ]
  },
  {
   "cell_type": "markdown",
   "metadata": {},
   "source": [
    "### Creating new MLflow experiment"
   ]
  },
  {
   "cell_type": "code",
   "execution_count": 0,
   "metadata": {
    "application/vnd.databricks.v1+cell": {
     "inputWidgets": {},
     "nuid": "0f8d8dcf-9a90-40b6-84bd-36e29e7881ed",
     "showTitle": false,
     "title": ""
    }
   },
   "outputs": [
    {
     "data": {
      "text/html": [
       "<style scoped>\n",
       "  .ansiout {\n",
       "    display: block;\n",
       "    unicode-bidi: embed;\n",
       "    white-space: pre-wrap;\n",
       "    word-wrap: break-word;\n",
       "    word-break: break-all;\n",
       "    font-family: \"Source Code Pro\", \"Menlo\", monospace;;\n",
       "    font-size: 13px;\n",
       "    color: #555;\n",
       "    margin-left: 4px;\n",
       "    line-height: 19px;\n",
       "  }\n",
       "</style>\n",
       "<div class=\"ansiout\"></div>"
      ]
     },
     "metadata": {
      "application/vnd.databricks.v1+output": {
       "addedWidgets": {},
       "arguments": {},
       "data": "<div class=\"ansiout\"></div>",
       "datasetInfos": [],
       "metadata": {},
       "removedWidgets": [],
       "type": "html"
      }
     },
     "output_type": "display_data"
    }
   ],
   "source": [
    "# Set active Experiment. Creates new experiment if not available\n",
    "mlflow.set_experiment(experiment_name =\"/Users/user/mxm/lastfm-als-experiment1\")"
   ]
  },
  {
   "cell_type": "code",
   "execution_count": 0,
   "metadata": {
    "application/vnd.databricks.v1+cell": {
     "inputWidgets": {},
     "nuid": "e2a162ed-aadd-4bc3-b48a-be349f5bf18b",
     "showTitle": false,
     "title": ""
    }
   },
   "outputs": [
    {
     "data": {
      "text/html": [
       "<style scoped>\n",
       "  .ansiout {\n",
       "    display: block;\n",
       "    unicode-bidi: embed;\n",
       "    white-space: pre-wrap;\n",
       "    word-wrap: break-word;\n",
       "    word-break: break-all;\n",
       "    font-family: \"Source Code Pro\", \"Menlo\", monospace;;\n",
       "    font-size: 13px;\n",
       "    color: #555;\n",
       "    margin-left: 4px;\n",
       "    line-height: 19px;\n",
       "  }\n",
       "</style>\n",
       "<div class=\"ansiout\">Out[48]: &#39;databricks&#39;</div>"
      ]
     },
     "metadata": {
      "application/vnd.databricks.v1+output": {
       "addedWidgets": {},
       "arguments": {},
       "data": "<div class=\"ansiout\">Out[48]: &#39;databricks&#39;</div>",
       "datasetInfos": [],
       "metadata": {},
       "removedWidgets": [],
       "type": "html"
      }
     },
     "output_type": "display_data"
    }
   ],
   "source": [
    "mlflow.tracking.get_tracking_uri()"
   ]
  },
  {
   "cell_type": "markdown",
   "metadata": {},
   "source": [
    "### Training the ALS model. \n",
    "\n",
    "ALS works by factorizing the Rating matrix into User and Artist matrix iteratively\n",
    "\n",
    "Important hyperparameters which will be tracked by the MLflow experiment are:\n",
    "\n",
    "**alpha** = A multiplier for setting the confidence in the implicit ratings. A higher value (~1) implies high confidence in the ratings\n",
    "\n",
    "**rank** = rank is the parameter to control the size of User and Artist matrices. A higher rank usually results in a better trained model but increases the computation overhead\n",
    "\n",
    "**iterations** = Number of Iterations of the ALS method to calculate the matrix factors\n",
    "\n",
    "**implicitPrefs** = Boolean to indicate whether the ratings are implicit or explicit"
   ]
  },
  {
   "cell_type": "code",
   "execution_count": 0,
   "metadata": {
    "application/vnd.databricks.v1+cell": {
     "inputWidgets": {},
     "nuid": "481d63d6-8e01-4ecc-97ce-20e4c76689c0",
     "showTitle": false,
     "title": ""
    }
   },
   "outputs": [
    {
     "data": {
      "text/html": [
       "<style scoped>\n",
       "  .ansiout {\n",
       "    display: block;\n",
       "    unicode-bidi: embed;\n",
       "    white-space: pre-wrap;\n",
       "    word-wrap: break-word;\n",
       "    word-break: break-all;\n",
       "    font-family: \"Source Code Pro\", \"Menlo\", monospace;;\n",
       "    font-size: 13px;\n",
       "    color: #555;\n",
       "    margin-left: 4px;\n",
       "    line-height: 19px;\n",
       "  }\n",
       "</style>\n",
       "<div class=\"ansiout\">RANK= 5 :Root-mean-square error = 0.8190233774143151\n",
       "RANK= 10 :Root-mean-square error = 0.8174932220055051\n",
       "RANK= 15 :Root-mean-square error = 0.8180625027763793\n",
       "RANK= 5 :Root-mean-square error = 0.8178814671322994\n",
       "RANK= 10 :Root-mean-square error = 0.8181686483861481\n",
       "RANK= 15 :Root-mean-square error = 0.8177828655636202\n",
       "RANK= 5 :Root-mean-square error = 0.8171108113260362\n",
       "RANK= 10 :Root-mean-square error = 0.8174162575761549\n",
       "RANK= 15 :Root-mean-square error = 0.8153334980700492\n",
       "</div>"
      ]
     },
     "metadata": {
      "application/vnd.databricks.v1+output": {
       "addedWidgets": {},
       "arguments": {},
       "data": "<div class=\"ansiout\">RANK= 5 :Root-mean-square error = 0.8190233774143151\nRANK= 10 :Root-mean-square error = 0.8174932220055051\nRANK= 15 :Root-mean-square error = 0.8180625027763793\nRANK= 5 :Root-mean-square error = 0.8178814671322994\nRANK= 10 :Root-mean-square error = 0.8181686483861481\nRANK= 15 :Root-mean-square error = 0.8177828655636202\nRANK= 5 :Root-mean-square error = 0.8171108113260362\nRANK= 10 :Root-mean-square error = 0.8174162575761549\nRANK= 15 :Root-mean-square error = 0.8153334980700492\n</div>",
       "datasetInfos": [],
       "metadata": {},
       "removedWidgets": [],
       "type": "html"
      }
     },
     "output_type": "display_data"
    }
   ],
   "source": [
    "# source: docs \n",
    "# ratingsRDD = parts.map(lambda p: Row(userId=int(p[0]), movieId=int(p[1]), rating=float(p[2]), timestamp=int(p[3])))\n",
    "# ratings = spark.createDataFrame(ratingsRDD)\n",
    "\n",
    "alphas = [0.1, 0.5, 1]\n",
    "ranks = [5, 10, 15]\n",
    "for alpha in alphas:\n",
    "  for rank in ranks:\n",
    "    (training, test) = demo.randomSplit([0.8, 0.2])\n",
    "    with mlflow.start_run(run_name='lastfm-als'):\n",
    "\n",
    "      als = ALS(userCol=\"userIndex\", itemCol=\"artistIndex\", ratingCol=\"ratings\",\n",
    "                implicitPrefs=True)\n",
    "      als.setMaxIter(5)\n",
    "      als.setRegParam(0.1)\n",
    "      als.setRank(rank)\n",
    "      als.setAlpha(alpha)\n",
    "\n",
    "      mlflow.log_param(\"model\", \"als\")\n",
    "      mlflow.log_param(\"maxIter\", als.getMaxIter())\n",
    "      mlflow.log_param(\"regParam\", als.getRegParam())\n",
    "      mlflow.log_param(\"rank\", rank)\n",
    "      mlflow.log_param(\"alpha\", alpha)\n",
    "      mlflow.log_param(\"implicitPrefs\", als.getImplicitPrefs())\n",
    "\n",
    "      model = als.fit(training)\n",
    "      predictions = model.transform(test)\n",
    "      predictions = predictions.filter(predictions.prediction != float('nan'))\n",
    "      evaluator = RegressionEvaluator(metricName=\"rmse\", labelCol=\"ratings\",predictionCol=\"prediction\")\n",
    "      rmse = evaluator.evaluate(predictions)\n",
    "      mlflow.log_metric(\"rmse\", rmse)\n",
    "      print(\"RANK= %s :Root-mean-square error = %s\" %(str(rank), str(rmse)))"
   ]
  },
  {
   "cell_type": "markdown",
   "metadata": {},
   "source": [
    "### Update model registry for tracking runs"
   ]
  },
  {
   "cell_type": "code",
   "execution_count": null,
   "metadata": {
    "application/vnd.databricks.v1+cell": {
     "inputWidgets": {},
     "nuid": "07ce6ba9-48a3-4e21-beac-b3cf5064e4fd",
     "showTitle": false,
     "title": ""
    }
   },
   "outputs": [],
   "source": [
    "run_id = mlflow.search_runs(filter_string='tags.mlflow.runName = \"lastfm-als\"').iloc[0].run_id\n",
    "\n",
    "model_name = \"lastfm-als-model\"\n",
    "\n",
    "model_version = mlflow.register_model(f\"runs:/{run_id}/lastfm-als\", model_name)"
   ]
  },
  {
   "cell_type": "markdown",
   "metadata": {},
   "source": [
    "### Generate the  artist recommendation for users"
   ]
  },
  {
   "cell_type": "code",
   "execution_count": 0,
   "metadata": {
    "application/vnd.databricks.v1+cell": {
     "inputWidgets": {},
     "nuid": "0acf6ff4-337d-41e2-8767-9fce5f5da52b",
     "showTitle": false,
     "title": ""
    }
   },
   "outputs": [
    {
     "data": {
      "text/html": [
       "<style scoped>\n",
       "  .ansiout {\n",
       "    display: block;\n",
       "    unicode-bidi: embed;\n",
       "    white-space: pre-wrap;\n",
       "    word-wrap: break-word;\n",
       "    word-break: break-all;\n",
       "    font-family: \"Source Code Pro\", \"Menlo\", monospace;;\n",
       "    font-size: 13px;\n",
       "    color: #555;\n",
       "    margin-left: 4px;\n",
       "    line-height: 19px;\n",
       "  }\n",
       "</style>\n",
       "<div class=\"ansiout\"></div>"
      ]
     },
     "metadata": {
      "application/vnd.databricks.v1+output": {
       "addedWidgets": {},
       "arguments": {},
       "data": "<div class=\"ansiout\"></div>",
       "datasetInfos": [],
       "metadata": {},
       "removedWidgets": [],
       "type": "html"
      }
     },
     "output_type": "display_data"
    }
   ],
   "source": [
    "# Generate top 10 artist recommendations for each user\n",
    "userRecs = model.recommendForAllUsers(10)\n"
   ]
  },
  {
   "cell_type": "markdown",
   "metadata": {},
   "source": [
    "### Generate the user recommendation for artists"
   ]
  },
  {
   "cell_type": "code",
   "execution_count": null,
   "metadata": {},
   "outputs": [],
   "source": [
    "# Generate top 10 user recommendations for each artist\n",
    "movieRecs = model.recommendForAllItems(10)"
   ]
  },
  {
   "cell_type": "markdown",
   "metadata": {},
   "source": [
    "### Evaluate predictions"
   ]
  },
  {
   "cell_type": "code",
   "execution_count": 0,
   "metadata": {
    "application/vnd.databricks.v1+cell": {
     "inputWidgets": {},
     "nuid": "27e0b95a-4814-40cc-9aa5-64ea76d07bf6",
     "showTitle": false,
     "title": ""
    }
   },
   "outputs": [
    {
     "data": {
      "text/html": [
       "<style scoped>\n",
       "  .ansiout {\n",
       "    display: block;\n",
       "    unicode-bidi: embed;\n",
       "    white-space: pre-wrap;\n",
       "    word-wrap: break-word;\n",
       "    word-break: break-all;\n",
       "    font-family: \"Source Code Pro\", \"Menlo\", monospace;;\n",
       "    font-size: 13px;\n",
       "    color: #555;\n",
       "    margin-left: 4px;\n",
       "    line-height: 19px;\n",
       "  }\n",
       "</style>\n",
       "<div class=\"ansiout\"></div>"
      ]
     },
     "metadata": {
      "application/vnd.databricks.v1+output": {
       "addedWidgets": {},
       "arguments": {},
       "data": "<div class=\"ansiout\"></div>",
       "datasetInfos": [],
       "metadata": {},
       "removedWidgets": [],
       "type": "html"
      }
     },
     "output_type": "display_data"
    }
   ],
   "source": [
    "rmse = evaluator.evaluate(predictions)"
   ]
  },
  {
   "cell_type": "markdown",
   "metadata": {},
   "source": [
    "### Saved model"
   ]
  },
  {
   "cell_type": "code",
   "execution_count": 0,
   "metadata": {
    "application/vnd.databricks.v1+cell": {
     "inputWidgets": {},
     "nuid": "ccf1f305-6d86-4f5e-8f8c-eb33768e5033",
     "showTitle": false,
     "title": ""
    }
   },
   "outputs": [
    {
     "data": {
      "text/html": [
       "<style scoped>\n",
       "  .ansiout {\n",
       "    display: block;\n",
       "    unicode-bidi: embed;\n",
       "    white-space: pre-wrap;\n",
       "    word-wrap: break-word;\n",
       "    word-break: break-all;\n",
       "    font-family: \"Source Code Pro\", \"Menlo\", monospace;;\n",
       "    font-size: 13px;\n",
       "    color: #555;\n",
       "    margin-left: 4px;\n",
       "    line-height: 19px;\n",
       "  }\n",
       "</style>\n",
       "<div class=\"ansiout\">Out[27]: [FileInfo(path=&#39;dbfs:/model/als-mlflow/itemFactors/&#39;, name=&#39;itemFactors/&#39;, size=0),\n",
       " FileInfo(path=&#39;dbfs:/model/als-mlflow/metadata/&#39;, name=&#39;metadata/&#39;, size=0),\n",
       " FileInfo(path=&#39;dbfs:/model/als-mlflow/userFactors/&#39;, name=&#39;userFactors/&#39;, size=0)]</div>"
      ]
     },
     "metadata": {
      "application/vnd.databricks.v1+output": {
       "addedWidgets": {},
       "arguments": {},
       "data": "<div class=\"ansiout\">Out[27]: [FileInfo(path=&#39;dbfs:/model/als-mlflow/itemFactors/&#39;, name=&#39;itemFactors/&#39;, size=0),\n FileInfo(path=&#39;dbfs:/model/als-mlflow/metadata/&#39;, name=&#39;metadata/&#39;, size=0),\n FileInfo(path=&#39;dbfs:/model/als-mlflow/userFactors/&#39;, name=&#39;userFactors/&#39;, size=0)]</div>",
       "datasetInfos": [],
       "metadata": {},
       "removedWidgets": [],
       "type": "html"
      }
     },
     "output_type": "display_data"
    }
   ],
   "source": [
    "dbutils.fs.ls(\"./model/als-mlflow\")"
   ]
  },
  {
   "cell_type": "code",
   "execution_count": 0,
   "metadata": {
    "application/vnd.databricks.v1+cell": {
     "inputWidgets": {},
     "nuid": "2dd228fc-c851-4ccf-ba70-3e67f94b9d10",
     "showTitle": false,
     "title": ""
    }
   },
   "outputs": [],
   "source": []
  }
 ],
 "metadata": {
  "application/vnd.databricks.v1+notebook": {
   "dashboards": [],
   "language": "python",
   "notebookMetadata": {
    "pythonIndentUnit": 2
   },
   "notebookName": "lastfm-als-0.2.1d-mlflow",
   "notebookOrigID": 4142293834736408,
   "widgets": {}
  },
  "kernelspec": {
   "display_name": "Python 3",
   "language": "python",
   "name": "python3"
  },
  "language_info": {
   "codemirror_mode": {
    "name": "ipython",
    "version": 3
   },
   "file_extension": ".py",
   "mimetype": "text/x-python",
   "name": "python",
   "nbconvert_exporter": "python",
   "pygments_lexer": "ipython3",
   "version": "3.8.5"
  }
 },
 "nbformat": 4,
 "nbformat_minor": 1
}
